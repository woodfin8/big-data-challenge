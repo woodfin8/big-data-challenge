{
 "cells": [
  {
   "cell_type": "code",
   "execution_count": 2,
   "metadata": {},
   "outputs": [],
   "source": [
    "%matplotlib inline\n",
    "from config import pword\n",
    "import matplotlib.pyplot as plt\n",
    "import pandas as pd"
   ]
  },
  {
   "cell_type": "code",
   "execution_count": 3,
   "metadata": {},
   "outputs": [],
   "source": [
    "import findspark\n",
    "findspark.init()\n",
    "findspark.find()\n",
    "import pyspark\n",
    "from pyspark.sql.types import StructType, StructField, StringType, IntegerType\n",
    "# from config import password "
   ]
  },
  {
   "cell_type": "code",
   "execution_count": 4,
   "metadata": {},
   "outputs": [],
   "source": [
    "from pyspark.sql import SparkSession\n",
    "from pyspark.sql.functions import to_timestamp\n",
    "spark = SparkSession.builder.appName('pyspark_app') \\\n",
    ".config('spark.driver.extraClassPath','postgresql-42.2.11') \\\n",
    ".master('local[*]') \\\n",
    ".getOrCreate()\n"
   ]
  },
  {
   "cell_type": "code",
   "execution_count": 5,
   "metadata": {},
   "outputs": [],
   "source": [
    "from pyspark import SparkFiles\n",
    "from pyspark.sql.functions import to_date\n",
    "from pyspark.sql.functions import round, col"
   ]
  },
  {
   "cell_type": "code",
   "execution_count": 6,
   "metadata": {},
   "outputs": [],
   "source": [
    "#path for video games\n",
    "url = \"https://s3.amazonaws.com/amazon-reviews-pds/tsv/amazon_reviews_us_Video_Games_v1_00.tsv.gz\"\n",
    "#path for toys\n",
    "# url2 = \"https://s3.amazonaws.com/amazon-reviews-pds/tsv/amazon_reviews_us_Toys_v1_00.tsv.gz\""
   ]
  },
  {
   "cell_type": "code",
   "execution_count": 7,
   "metadata": {},
   "outputs": [],
   "source": [
    "#add url file\n",
    "spark.sparkContext.addFile(url)"
   ]
  },
  {
   "cell_type": "code",
   "execution_count": 8,
   "metadata": {},
   "outputs": [],
   "source": [
    "df = spark.read.option(\"header\", \"true\").csv(SparkFiles.get\n",
    "                                             (\"amazon_reviews_us_Video_Games_v1_00.tsv.gz\"), inferSchema=True, sep='\\t')"
   ]
  },
  {
   "cell_type": "code",
   "execution_count": 9,
   "metadata": {},
   "outputs": [
    {
     "name": "stdout",
     "output_type": "stream",
     "text": [
      "There are 1785997 rows in the video game dataframe\n"
     ]
    }
   ],
   "source": [
    "print(f'There are {df.count()} rows in the video game dataframe')"
   ]
  },
  {
   "cell_type": "code",
   "execution_count": 10,
   "metadata": {},
   "outputs": [],
   "source": [
    "#create column in correct date format\n",
    "df = df.withColumn(\"date\", to_date(df['review_date']))"
   ]
  },
  {
   "cell_type": "code",
   "execution_count": 11,
   "metadata": {},
   "outputs": [
    {
     "name": "stdout",
     "output_type": "stream",
     "text": [
      "root\n",
      " |-- marketplace: string (nullable = true)\n",
      " |-- customer_id: integer (nullable = true)\n",
      " |-- review_id: string (nullable = true)\n",
      " |-- product_id: string (nullable = true)\n",
      " |-- product_parent: integer (nullable = true)\n",
      " |-- product_title: string (nullable = true)\n",
      " |-- product_category: string (nullable = true)\n",
      " |-- star_rating: integer (nullable = true)\n",
      " |-- helpful_votes: integer (nullable = true)\n",
      " |-- total_votes: integer (nullable = true)\n",
      " |-- vine: string (nullable = true)\n",
      " |-- verified_purchase: string (nullable = true)\n",
      " |-- review_headline: string (nullable = true)\n",
      " |-- review_body: string (nullable = true)\n",
      " |-- review_date: timestamp (nullable = true)\n",
      " |-- date: date (nullable = true)\n",
      "\n"
     ]
    }
   ],
   "source": [
    "df.printSchema()"
   ]
  },
  {
   "cell_type": "code",
   "execution_count": 141,
   "metadata": {},
   "outputs": [
    {
     "name": "stdout",
     "output_type": "stream",
     "text": [
      "+--------------+-----------+----------+--------------+----------+\n",
      "|     review_id|customer_id|product_id|product_parent|      date|\n",
      "+--------------+-----------+----------+--------------+----------+\n",
      "| RTIS3L2M1F5SM|   12039526|B001CXYMFS|     737716809|2015-08-31|\n",
      "| R1ZV7R40OLHKD|    9636577|B00M920ND6|     569686175|2015-08-31|\n",
      "|R3BH071QLH8QMC|    2331478|B0029CSOD2|      98937668|2015-08-31|\n",
      "|R127K9NTSXA2YH|   52495923|B00GOOSV98|      23143350|2015-08-31|\n",
      "|R32ZWUXDJPW27Q|   14533949|B00Y074JOM|     821342511|2015-08-31|\n",
      "+--------------+-----------+----------+--------------+----------+\n",
      "only showing top 5 rows\n",
      "\n"
     ]
    }
   ],
   "source": [
    "#create reviews df\n",
    "review_df = df.select([\"review_id\", \"customer_id\", \"product_id\", \"product_parent\", \"date\"])\n",
    "review_df.show(5)"
   ]
  },
  {
   "cell_type": "code",
   "execution_count": null,
   "metadata": {},
   "outputs": [],
   "source": []
  },
  {
   "cell_type": "code",
   "execution_count": 148,
   "metadata": {},
   "outputs": [
    {
     "name": "stdout",
     "output_type": "stream",
     "text": [
      "+--------------+-----------+----------+--------------+----------+\n",
      "|     review_id|customer_id|product_id|product_parent|      date|\n",
      "+--------------+-----------+----------+--------------+----------+\n",
      "| R85QTDO2KZMGO|   53088309|B00000JL6V|     334018759|1997-11-06|\n",
      "|R2W36RZZZNTYWF|   52917144|B00000JL6V|     334018759|1997-11-06|\n",
      "| RJ5BETZP0VIUS|   53023047|B00000JL6V|     334018759|1997-11-08|\n",
      "| RPC430LWZJ60T|   52758880|B00000JL6V|     334018759|1997-11-09|\n",
      "|R347MZT5FH6HRJ|   52477491|B00000JL6V|     334018759|1997-11-09|\n",
      "|R3C8YZ5PVHS0FV|   52958893|B00000JL6V|     334018759|1997-11-18|\n",
      "|R2HRHSLRKZZVNJ|   52930256|B00000JL6V|     334018759|1997-11-29|\n",
      "|R2N4VCBGD3NSZE|   52827638|B00000JL6V|     334018759|1997-12-08|\n",
      "|R1U4NAKFZRFFLA|   53068113|B00000JL6V|     334018759|1997-12-13|\n",
      "| RT1RXAF0JRS9U|   52714368|B00000JL6V|     334018759|1997-12-14|\n",
      "|R106WHTX7V70A9|   52883365|B00000JL6V|     334018759|1997-12-17|\n",
      "|R1GX13TWPZ910P|   52936386|B00000JL6V|     334018759|1997-12-18|\n",
      "| RZWFMQAT8N318|   53004243|B00000JL6V|     334018759|1998-01-25|\n",
      "|R299I6VFGBE993|   52852135|B00000JL6V|     334018759|1998-04-13|\n",
      "|R2AIE32P9257G0|   52504082|B00000JL6V|     334018759|1998-04-29|\n",
      "|R26TXM2EHSI6ZB|   52750787|B00000JL6V|     334018759|1998-05-10|\n",
      "|R2Z6JRPOE839GS|   52719222|B00000JL6V|     334018759|1998-05-19|\n",
      "| RV3M7407ARWQ3|   52718493|B00000JL6V|     334018759|1998-05-27|\n",
      "|R1VR96VJLOGHDW|   52667938|B00000JL6V|     334018759|1998-06-21|\n",
      "|R1E8BBTOFT83QV|   52514269|B00000JL6V|     334018759|1998-09-27|\n",
      "+--------------+-----------+----------+--------------+----------+\n",
      "only showing top 20 rows\n",
      "\n"
     ]
    }
   ],
   "source": [
    "review_df = review_df.filter(review_df['date'].isNotNull())\n",
    "review_df = review_df.orderBy(review_df['date'].asc())\n",
    "review_df.show()"
   ]
  },
  {
   "cell_type": "code",
   "execution_count": 13,
   "metadata": {},
   "outputs": [],
   "source": [
    "#create customer df with unique custy id\n",
    "custy_df = df.groupBy('customer_id').count()"
   ]
  },
  {
   "cell_type": "code",
   "execution_count": 14,
   "metadata": {},
   "outputs": [],
   "source": [
    "#rename count col\n",
    "custy_df = custy_df.withColumnRenamed('count','customer_count')"
   ]
  },
  {
   "cell_type": "code",
   "execution_count": 15,
   "metadata": {},
   "outputs": [
    {
     "name": "stdout",
     "output_type": "stream",
     "text": [
      "+-----------+--------------+\n",
      "|customer_id|customer_count|\n",
      "+-----------+--------------+\n",
      "|   48670265|             1|\n",
      "|   49103216|             2|\n",
      "|    1131200|             1|\n",
      "|   43076447|             2|\n",
      "|   46261368|             1|\n",
      "+-----------+--------------+\n",
      "only showing top 5 rows\n",
      "\n"
     ]
    }
   ],
   "source": [
    "custy_df.show(5)"
   ]
  },
  {
   "cell_type": "code",
   "execution_count": 16,
   "metadata": {},
   "outputs": [],
   "source": [
    "#create prod df with unique prod id\n",
    "prod_df = df.select([\"product_id\", \"product_title\"])\n",
    "prod_df = prod_df.dropDuplicates(['product_id'])"
   ]
  },
  {
   "cell_type": "code",
   "execution_count": 17,
   "metadata": {},
   "outputs": [
    {
     "data": {
      "text/plain": [
       "65792"
      ]
     },
     "execution_count": 17,
     "metadata": {},
     "output_type": "execute_result"
    }
   ],
   "source": [
    "prod_df.count()"
   ]
  },
  {
   "cell_type": "code",
   "execution_count": 159,
   "metadata": {},
   "outputs": [
    {
     "name": "stdout",
     "output_type": "stream",
     "text": [
      "+--------------+-----------+-------------+-----------+----+\n",
      "|     review_id|star_rating|helpful_votes|total_votes|vine|\n",
      "+--------------+-----------+-------------+-----------+----+\n",
      "| RTIS3L2M1F5SM|          5|            0|          0|   N|\n",
      "| R1ZV7R40OLHKD|          5|            0|          0|   N|\n",
      "|R3BH071QLH8QMC|          1|            0|          1|   N|\n",
      "|R127K9NTSXA2YH|          3|            0|          0|   N|\n",
      "|R32ZWUXDJPW27Q|          4|            0|          0|   N|\n",
      "+--------------+-----------+-------------+-----------+----+\n",
      "only showing top 5 rows\n",
      "\n"
     ]
    }
   ],
   "source": [
    "#create vine df\n",
    "vine_df = df.select([\"review_id\", \"star_rating\", \"helpful_votes\", \"total_votes\", \"vine\"])\n",
    "vine_df.show(5)"
   ]
  },
  {
   "cell_type": "code",
   "execution_count": 19,
   "metadata": {},
   "outputs": [],
   "source": [
    "# Configure settings for RDS\n",
    "mode = \"append\"\n",
    "jdbc_url=\"jdbc:postgresql://big-data-2.cpclfqan17p9.us-east-1.rds.amazonaws.com:5432/bd-homework\"\n",
    "config = {\"user\":\"postgres\", \n",
    "          \"password\": pword, \n",
    "          \"driver\":\"org.postgresql.Driver\"}"
   ]
  },
  {
   "cell_type": "code",
   "execution_count": 21,
   "metadata": {},
   "outputs": [],
   "source": [
    "#write reviews to RDS\n",
    "review_df.write.jdbc(url=jdbc_url, table='review_id_table', mode=mode, properties=config)"
   ]
  },
  {
   "cell_type": "code",
   "execution_count": null,
   "metadata": {},
   "outputs": [],
   "source": [
    "#write customers\n",
    "custy_df.write.jdbc(url=jdbc_url, table='customers', mode=mode, properties=config)"
   ]
  },
  {
   "cell_type": "code",
   "execution_count": 39,
   "metadata": {},
   "outputs": [],
   "source": [
    "#write products\n",
    "prod_df.write.jdbc(url=jdbc_url, table='products', mode=mode, properties=config)"
   ]
  },
  {
   "cell_type": "code",
   "execution_count": 40,
   "metadata": {},
   "outputs": [],
   "source": [
    "#write vine\n",
    "vine_df.write.jdbc(url=jdbc_url, table='vine_table', mode=mode, properties=config)"
   ]
  },
  {
   "cell_type": "code",
   "execution_count": 166,
   "metadata": {},
   "outputs": [],
   "source": [
    "#create function to run analysis on reviews in (\"Y\") and out of (\"N\") vine program \n",
    "def vine_program(yes_no):\n",
    "    #dopr all rows that have no votes\n",
    "    filter_df = vine_df.filter(vine_df[\"total_votes\"]>0)\n",
    "    df = filter_df.filter(vine_df[\"vine\"] == yes_no).groupBy('star_rating').count()\n",
    "    #rename count col\n",
    "    df = df.withColumnRenamed('count','star_count')\n",
    "    #count vine reviews\n",
    "    total = df.groupBy().sum('star_count').collect()[0][0]\n",
    "    print(f'There are {total} reviews with vine marker {yes_no} and at least one vote')\n",
    "    #create percent of total column\n",
    "    df = df.withColumn('star_pct',round(df['star_count']/total,4))\n",
    "    #get total number of helpful votes by star rating\n",
    "    df_help = vine_df.filter(vine_df[\"vine\"] == yes_no).groupBy('star_rating').agg(sum('helpful_votes'),sum('total_votes'))\n",
    "    #rename helpful votes col\n",
    "    df_help = df_help.withColumnRenamed('sum(helpful_votes)', 'helpful_votes').withColumnRenamed('sum(total_votes)',\n",
    "                                                                                                 'total_votes')\n",
    "    #join helpful votes to vine ratings\n",
    "    df = df.join(df_help,['star_rating'])\n",
    "    #create column which averages # of helpful votes by star\n",
    "    df = df.withColumn('helpful_avg',round(df['helpful_votes']/df['star_count'],4))\n",
    "    df = df.withColumn('helpful_ratio',round(df['helpful_votes']/df['total_votes'],4))\n",
    "    #count reviews by star that have no helpful votes\n",
    "#     no_help_df = vine_df.filter(vine_df[\"vine\"]==yes_no).filter(vine_df['helpful_votes']==0).groupBy('star_rating').count()\n",
    "#     #rename count column\n",
    "#     no_help_df = no_help_df.withColumnRenamed('count', 'rvws_no_helpfuls')\n",
    "#     #join no_help df to df\n",
    "#     df = df.join(no_help_df,['star_rating'])\n",
    "#     #calcualte pct of reviews with no helpful votes\n",
    "#     df = df.withColumn('pct_no_help',round(df['rvws_no_helpfuls']/df['star_count'],4))\n",
    "    #order by star rating\n",
    "    df = df.orderBy(df['star_rating'].asc())\n",
    "    #show schema\n",
    "    df.printSchema()\n",
    "    global pandas_df\n",
    "    pandas_df = df.toPandas()\n",
    "    if yes_no == \"Y\":\n",
    "        color = \"blue\"\n",
    "        title = \"Vine\"\n",
    "    else:\n",
    "        color = \"red\"\n",
    "        title = \"Non-Vine\"\n",
    "        \n",
    "    #plot number of reviews by star rating\n",
    "    plt.figure(figsize=(10,6))\n",
    "    plt.bar(pandas_df['star_rating'],pandas_df['star_pct'], color =color)\n",
    "    plt.title(f\"{title} Reviews\", fontsize=20)\n",
    "    plt.xlabel(\"Star Rating\", fontsize=16)\n",
    "    plt.ylabel(\"% of Ratings\", fontsize=16)\n",
    "    plt.xticks(fontsize=16)\n",
    "    plt.yticks(fontsize=16)\n",
    "    plt.savefig(f\"{title}reviews.png\")\n",
    "    #plot average of helpful votes per review by star ratings\n",
    "    plt.figure(figsize=(10,6))\n",
    "    plt.bar(pandas_df['star_rating'],pandas_df['helpful_avg'], color =color)\n",
    "    plt.title(f\"Avg # of Helpful Votes per {title} Review\", fontsize=20)\n",
    "    plt.xlabel(\"Star Rating\", fontsize=16)\n",
    "    plt.ylabel(\"Average\", fontsize=16)\n",
    "    plt.xticks(fontsize=16)\n",
    "    plt.yticks(fontsize=16)\n",
    "    plt.savefig(f\"{title}_help_avg.png\")\n",
    "    #plot helpful vote ratio by star ratings\n",
    "    plt.figure(figsize=(10,6))\n",
    "    plt.bar(pandas_df['star_rating'],pandas_df['helpful_ratio'], color =color)\n",
    "    plt.title(f\"Helpful Vote Ratio for {title} Reviews\", fontsize=20)\n",
    "    plt.xlabel(\"Star Rating\", fontsize=16)\n",
    "    plt.ylabel(\"Percent\", fontsize=16)\n",
    "    plt.xticks(fontsize=16)\n",
    "    plt.yticks(fontsize=16)\n",
    "    plt.savefig(f\"{title}_ratio.png\")\n",
    "    #save pandas_df as csv\n",
    "    pandas_df.to_csv(f\"{yes_no}_summary\", index=False)\n",
    "    return df.show()\n",
    "    \n",
    "    "
   ]
  },
  {
   "cell_type": "code",
   "execution_count": 165,
   "metadata": {},
   "outputs": [
    {
     "name": "stdout",
     "output_type": "stream",
     "text": [
      "There are 2572 reviews with vine marker Y\n",
      "root\n",
      " |-- star_rating: integer (nullable = true)\n",
      " |-- star_count: long (nullable = false)\n",
      " |-- star_pct: double (nullable = true)\n",
      " |-- helpful_votes: long (nullable = true)\n",
      " |-- total_votes: long (nullable = true)\n",
      " |-- helpful_avg: double (nullable = true)\n",
      " |-- helpful_ratio: double (nullable = true)\n",
      "\n",
      "+-----------+----------+--------+-------------+-----------+-----------+-------------+\n",
      "|star_rating|star_count|star_pct|helpful_votes|total_votes|helpful_avg|helpful_ratio|\n",
      "+-----------+----------+--------+-------------+-----------+-----------+-------------+\n",
      "|          1|        51|  0.0198|          103|        313|     2.0196|       0.3291|\n",
      "|          2|       146|  0.0568|          448|        826|     3.0685|       0.5424|\n",
      "|          3|       456|  0.1773|         1419|       2267|     3.1118|       0.6259|\n",
      "|          4|       961|  0.3736|         3862|       5068|     4.0187|        0.762|\n",
      "|          5|       958|  0.3725|         4245|       5592|     4.4311|       0.7591|\n",
      "+-----------+----------+--------+-------------+-----------+-----------+-------------+\n",
      "\n"
     ]
    },
    {
     "data": {
      "image/png": "[encoded data removed]",
      "text/plain": [
       "<Figure size 720x432 with 1 Axes>"
      ]
     },
     "metadata": {
      "needs_background": "light"
     },
     "output_type": "display_data"
    },
    {
     "data": {
      "image/png": "[encoded data removed]",
      "text/plain": [
       "<Figure size 720x432 with 1 Axes>"
      ]
     },
     "metadata": {
      "needs_background": "light"
     },
     "output_type": "display_data"
    },
    {
     "data": {
      "image/png": "[encoded data removed]",
      "text/plain": [
       "<Figure size 720x432 with 1 Axes>"
      ]
     },
     "metadata": {
      "needs_background": "light"
     },
     "output_type": "display_data"
    }
   ],
   "source": [
    "vine_program(\"Y\")"
   ]
  },
  {
   "cell_type": "code",
   "execution_count": 167,
   "metadata": {},
   "outputs": [
    {
     "name": "stdout",
     "output_type": "stream",
     "text": [
      "There are 903896 reviews with vine marker N and at least one vote\n",
      "root\n",
      " |-- star_rating: integer (nullable = true)\n",
      " |-- star_count: long (nullable = false)\n",
      " |-- star_pct: double (nullable = true)\n",
      " |-- helpful_votes: long (nullable = true)\n",
      " |-- total_votes: long (nullable = true)\n",
      " |-- helpful_avg: double (nullable = true)\n",
      " |-- helpful_ratio: double (nullable = true)\n",
      "\n",
      "+-----------+----------+--------+-------------+-----------+-----------+-------------+\n",
      "|star_rating|star_count|star_pct|helpful_votes|total_votes|helpful_avg|helpful_ratio|\n",
      "+-----------+----------+--------+-------------+-----------+-----------+-------------+\n",
      "|          1|    151702|  0.1678|       911501|    2057975|     6.0085|       0.4429|\n",
      "|          2|     67823|   0.075|       310776|     564850|     4.5822|       0.5502|\n",
      "|          3|     93924|  0.1039|       408177|     657029|     4.3458|       0.6212|\n",
      "|          4|    159358|  0.1763|       687691|     954416|     4.3154|       0.7205|\n",
      "|          5|    431089|  0.4769|      1706969|    2462313|     3.9597|       0.6932|\n",
      "+-----------+----------+--------+-------------+-----------+-----------+-------------+\n",
      "\n"
     ]
    },
    {
     "data": {
      "image/png": "[encoded data removed]",
      "text/plain": [
       "<Figure size 720x432 with 1 Axes>"
      ]
     },
     "metadata": {
      "needs_background": "light"
     },
     "output_type": "display_data"
    },
    {
     "data": {
      "image/png": "[encoded data removed]",
      "text/plain": [
       "<Figure size 720x432 with 1 Axes>"
      ]
     },
     "metadata": {
      "needs_background": "light"
     },
     "output_type": "display_data"
    },
    {
     "data": {
      "image/png": "[encoded data removed]",
      "text/plain": [
       "<Figure size 720x432 with 1 Axes>"
      ]
     },
     "metadata": {
      "needs_background": "light"
     },
     "output_type": "display_data"
    }
   ],
   "source": [
    "vine_program(\"N\")"
   ]
  },
  {
   "cell_type": "code",
   "execution_count": 168,
   "metadata": {},
   "outputs": [
    {
     "data": {
      "text/html": [
       "<div>\n",
       "<style scoped>\n",
       "    .dataframe tbody tr th:only-of-type {\n",
       "        vertical-align: middle;\n",
       "    }\n",
       "\n",
       "    .dataframe tbody tr th {\n",
       "        vertical-align: top;\n",
       "    }\n",
       "\n",
       "    .dataframe thead th {\n",
       "        text-align: right;\n",
       "    }\n",
       "</style>\n",
       "<table border=\"1\" class=\"dataframe\">\n",
       "  <thead>\n",
       "    <tr style=\"text-align: right;\">\n",
       "      <th></th>\n",
       "      <th>star_rating</th>\n",
       "      <th>star_count</th>\n",
       "      <th>star_pct</th>\n",
       "      <th>helpful_votes</th>\n",
       "      <th>total_votes</th>\n",
       "      <th>helpful_avg</th>\n",
       "      <th>helpful_ratio</th>\n",
       "    </tr>\n",
       "  </thead>\n",
       "  <tbody>\n",
       "    <tr>\n",
       "      <th>0</th>\n",
       "      <td>1</td>\n",
       "      <td>151702</td>\n",
       "      <td>0.1678</td>\n",
       "      <td>911501</td>\n",
       "      <td>2057975</td>\n",
       "      <td>6.0085</td>\n",
       "      <td>0.4429</td>\n",
       "    </tr>\n",
       "    <tr>\n",
       "      <th>1</th>\n",
       "      <td>2</td>\n",
       "      <td>67823</td>\n",
       "      <td>0.0750</td>\n",
       "      <td>310776</td>\n",
       "      <td>564850</td>\n",
       "      <td>4.5822</td>\n",
       "      <td>0.5502</td>\n",
       "    </tr>\n",
       "    <tr>\n",
       "      <th>2</th>\n",
       "      <td>3</td>\n",
       "      <td>93924</td>\n",
       "      <td>0.1039</td>\n",
       "      <td>408177</td>\n",
       "      <td>657029</td>\n",
       "      <td>4.3458</td>\n",
       "      <td>0.6212</td>\n",
       "    </tr>\n",
       "    <tr>\n",
       "      <th>3</th>\n",
       "      <td>4</td>\n",
       "      <td>159358</td>\n",
       "      <td>0.1763</td>\n",
       "      <td>687691</td>\n",
       "      <td>954416</td>\n",
       "      <td>4.3154</td>\n",
       "      <td>0.7205</td>\n",
       "    </tr>\n",
       "    <tr>\n",
       "      <th>4</th>\n",
       "      <td>5</td>\n",
       "      <td>431089</td>\n",
       "      <td>0.4769</td>\n",
       "      <td>1706969</td>\n",
       "      <td>2462313</td>\n",
       "      <td>3.9597</td>\n",
       "      <td>0.6932</td>\n",
       "    </tr>\n",
       "  </tbody>\n",
       "</table>\n",
       "</div>"
      ],
      "text/plain": [
       "   star_rating  star_count  star_pct  helpful_votes  total_votes  helpful_avg  \\\n",
       "0            1      151702    0.1678         911501      2057975       6.0085   \n",
       "1            2       67823    0.0750         310776       564850       4.5822   \n",
       "2            3       93924    0.1039         408177       657029       4.3458   \n",
       "3            4      159358    0.1763         687691       954416       4.3154   \n",
       "4            5      431089    0.4769        1706969      2462313       3.9597   \n",
       "\n",
       "   helpful_ratio  \n",
       "0         0.4429  \n",
       "1         0.5502  \n",
       "2         0.6212  \n",
       "3         0.7205  \n",
       "4         0.6932  "
      ]
     },
     "execution_count": 168,
     "metadata": {},
     "output_type": "execute_result"
    }
   ],
   "source": [
    "pandas_df"
   ]
  },
  {
   "cell_type": "code",
   "execution_count": 172,
   "metadata": {},
   "outputs": [],
   "source": [
    "cust_check_df =  df.select([\"customer_id\", \"star_rating\", \"helpful_votes\", \"total_votes\", \"vine\"])\n",
    "cust_check_df = cust_check_df.filter(cust_check_df['vine'] == 'Y').filter(cust_check_df['total_votes']>0)"
   ]
  },
  {
   "cell_type": "code",
   "execution_count": 173,
   "metadata": {},
   "outputs": [
    {
     "name": "stdout",
     "output_type": "stream",
     "text": [
      "+-----------+-----------+-------------+-----------+----+\n",
      "|customer_id|star_rating|helpful_votes|total_votes|vine|\n",
      "+-----------+-----------+-------------+-----------+----+\n",
      "|   12113794|          4|            2|          4|   Y|\n",
      "|   39916916|          1|            1|          2|   Y|\n",
      "|   42689422|          4|            1|          2|   Y|\n",
      "|   20981134|          5|            1|          2|   Y|\n",
      "|   50398454|          5|            3|          4|   Y|\n",
      "+-----------+-----------+-------------+-----------+----+\n",
      "only showing top 5 rows\n",
      "\n"
     ]
    }
   ],
   "source": [
    "cust_check_df.show(5)"
   ]
  },
  {
   "cell_type": "code",
   "execution_count": 174,
   "metadata": {},
   "outputs": [],
   "source": [
    "from pyspark.sql.functions import count, avg, sum"
   ]
  },
  {
   "cell_type": "code",
   "execution_count": 175,
   "metadata": {},
   "outputs": [],
   "source": [
    "group_cust_df = cust_check_df.groupBy(\"customer_id\").agg(count(\"customer_id\"),avg(\"star_rating\"), sum(\"helpful_votes\"), sum(\"total_votes\"))"
   ]
  },
  {
   "cell_type": "code",
   "execution_count": 176,
   "metadata": {},
   "outputs": [
    {
     "name": "stdout",
     "output_type": "stream",
     "text": [
      "+-----------+------------------+-----------------+------------------+----------------+\n",
      "|customer_id|count(customer_id)| avg(star_rating)|sum(helpful_votes)|sum(total_votes)|\n",
      "+-----------+------------------+-----------------+------------------+----------------+\n",
      "|   17481726|                 7|3.857142857142857|                31|              43|\n",
      "|   22978817|                 1|              5.0|                 1|               7|\n",
      "|   49214860|                 1|              3.0|                 4|               6|\n",
      "|   52773179|                 1|              5.0|                 1|               2|\n",
      "|   50699952|                 1|              3.0|                 1|               2|\n",
      "+-----------+------------------+-----------------+------------------+----------------+\n",
      "only showing top 5 rows\n",
      "\n"
     ]
    }
   ],
   "source": [
    "group_cust_df.show(5)"
   ]
  },
  {
   "cell_type": "code",
   "execution_count": 177,
   "metadata": {},
   "outputs": [],
   "source": [
    "group_cust_df = group_cust_df.withColumnRenamed('count(customer_id)', 'total_reviews').withColumnRenamed('avg(star_rating)',\n",
    "                            'avg_rating').withColumnRenamed('sum(helpful_votes)','total_helpful_votes').withColumnRenamed(\n",
    "                            'sum(total_votes)','total_votes')"
   ]
  },
  {
   "cell_type": "code",
   "execution_count": 178,
   "metadata": {},
   "outputs": [
    {
     "name": "stdout",
     "output_type": "stream",
     "text": [
      "+-------+-------------------+------------------+------------------+-------------------+------------------+\n",
      "|summary|        customer_id|     total_reviews|        avg_rating|total_helpful_votes|       total_votes|\n",
      "+-------+-------------------+------------------+------------------+-------------------+------------------+\n",
      "|  count|               1351|              1351|              1351|               1351|              1351|\n",
      "|   mean|4.101361041820873E7|1.9037749814951888|  4.02097270687204|  7.458919319022946|10.411547002220578|\n",
      "| stddev|1.279819588697933E7| 1.700433658761107|0.8633604813085977|  34.60770059910353| 37.73970480038001|\n",
      "|    min|           10137785|                 1|               1.0|                  0|                 1|\n",
      "|    max|           53095826|                21|               5.0|                990|              1051|\n",
      "+-------+-------------------+------------------+------------------+-------------------+------------------+\n",
      "\n"
     ]
    }
   ],
   "source": [
    "group_cust_df.describe().show()"
   ]
  },
  {
   "cell_type": "code",
   "execution_count": 119,
   "metadata": {},
   "outputs": [],
   "source": [
    "group_cust_df = group_cust_df.orderBy(group_cust_df['total_reviews'].asc())"
   ]
  },
  {
   "cell_type": "code",
   "execution_count": 179,
   "metadata": {},
   "outputs": [],
   "source": [
    "from pyspark.sql import Window\n",
    "from pyspark.sql.functions import row_number\n",
    "w = Window.orderBy(\"total_reviews\") \n",
    "group_cust_df = group_cust_df.withColumn(\"index\", row_number().over(w))"
   ]
  },
  {
   "cell_type": "code",
   "execution_count": 180,
   "metadata": {},
   "outputs": [
    {
     "name": "stdout",
     "output_type": "stream",
     "text": [
      "+-----------+-------------+----------+-------------------+-----------+-----+\n",
      "|customer_id|total_reviews|avg_rating|total_helpful_votes|total_votes|index|\n",
      "+-----------+-------------+----------+-------------------+-----------+-----+\n",
      "|   22978817|            1|       5.0|                  1|          7|    1|\n",
      "|   49214860|            1|       3.0|                  4|          6|    2|\n",
      "|   52773179|            1|       5.0|                  1|          2|    3|\n",
      "|   50699952|            1|       3.0|                  1|          2|    4|\n",
      "|   17171509|            1|       5.0|                  6|          6|    5|\n",
      "+-----------+-------------+----------+-------------------+-----------+-----+\n",
      "only showing top 5 rows\n",
      "\n"
     ]
    }
   ],
   "source": [
    "group_cust_df.show(5)"
   ]
  },
  {
   "cell_type": "code",
   "execution_count": 181,
   "metadata": {},
   "outputs": [
    {
     "name": "stdout",
     "output_type": "stream",
     "text": [
      "+-----------+-------------+----------+-------------------+-----------+-----+\n",
      "|customer_id|total_reviews|avg_rating|total_helpful_votes|total_votes|index|\n",
      "+-----------+-------------+----------+-------------------+-----------+-----+\n",
      "+-----------+-------------+----------+-------------------+-----------+-----+\n",
      "\n"
     ]
    }
   ],
   "source": [
    "group_cust_df.filter(col(\"index\").between(1591,1600)).show()"
   ]
  },
  {
   "cell_type": "code",
   "execution_count": 182,
   "metadata": {},
   "outputs": [],
   "source": [
    "top_cust_df = group_cust_df.filter(group_cust_df['total_reviews'] >= 10)"
   ]
  },
  {
   "cell_type": "code",
   "execution_count": 183,
   "metadata": {},
   "outputs": [
    {
     "data": {
      "text/plain": [
       "11"
      ]
     },
     "execution_count": 183,
     "metadata": {},
     "output_type": "execute_result"
    }
   ],
   "source": [
    "top_cust_df.count()"
   ]
  },
  {
   "cell_type": "code",
   "execution_count": 184,
   "metadata": {},
   "outputs": [],
   "source": [
    "top_cust_df = top_cust_df.withColumn('helpful_ratio',round(top_cust_df['total_helpful_votes']/top_cust_df['total_votes'],4))"
   ]
  },
  {
   "cell_type": "code",
   "execution_count": 185,
   "metadata": {},
   "outputs": [
    {
     "name": "stdout",
     "output_type": "stream",
     "text": [
      "+-----------+-------------+----------+-------------------+-----------+-----+-------------+\n",
      "|customer_id|total_reviews|avg_rating|total_helpful_votes|total_votes|index|helpful_ratio|\n",
      "+-----------+-------------+----------+-------------------+-----------+-----+-------------+\n",
      "|   48192361|           10|       4.2|                 17|         38| 1341|       0.4474|\n",
      "|   35391116|           10|       3.2|                 29|         51| 1342|       0.5686|\n",
      "|   43791073|           10|       3.8|                 44|         62| 1343|       0.7097|\n",
      "|   49161983|           10|       4.1|                 12|         17| 1344|       0.7059|\n",
      "|   42700429|           10|       3.8|                 62|         81| 1345|       0.7654|\n",
      "+-----------+-------------+----------+-------------------+-----------+-----+-------------+\n",
      "only showing top 5 rows\n",
      "\n"
     ]
    }
   ],
   "source": [
    "top_cust_df.show(5)"
   ]
  },
  {
   "cell_type": "code",
   "execution_count": 186,
   "metadata": {},
   "outputs": [
    {
     "name": "stdout",
     "output_type": "stream",
     "text": [
      "+-----------+-------------+------------------+-------------------+-----------+-----+-------------+\n",
      "|customer_id|total_reviews|        avg_rating|total_helpful_votes|total_votes|index|helpful_ratio|\n",
      "+-----------+-------------+------------------+-------------------+-----------+-----+-------------+\n",
      "|   48192361|           10|               4.2|                 17|         38| 1341|       0.4474|\n",
      "|   45407233|           11| 4.818181818181818|                 13|         27| 1347|       0.4815|\n",
      "|   35391116|           10|               3.2|                 29|         51| 1342|       0.5686|\n",
      "|   38867531|           11| 4.181818181818182|                 20|         31| 1346|       0.6452|\n",
      "|   20981134|           12| 4.416666666666667|                 31|         44| 1349|       0.7045|\n",
      "|   49161983|           10|               4.1|                 12|         17| 1344|       0.7059|\n",
      "|   43791073|           10|               3.8|                 44|         62| 1343|       0.7097|\n",
      "|   42700429|           10|               3.8|                 62|         81| 1345|       0.7654|\n",
      "|   24021862|           12|              3.75|                 76|         98| 1348|       0.7755|\n",
      "|   33347828|           18|3.6666666666666665|                366|        423| 1350|       0.8652|\n",
      "|   33354780|           21| 4.380952380952381|                990|       1051| 1351|        0.942|\n",
      "+-----------+-------------+------------------+-------------------+-----------+-----+-------------+\n",
      "\n"
     ]
    }
   ],
   "source": [
    "top_cust_df = top_cust_df.orderBy(top_cust_df['helpful_ratio'].asc())\n",
    "top_cust_df.show(20)"
   ]
  },
  {
   "cell_type": "code",
   "execution_count": null,
   "metadata": {},
   "outputs": [],
   "source": []
  }
 ],
 "metadata": {
  "kernelspec": {
   "display_name": "Python 3",
   "language": "python",
   "name": "python3"
  }
 },
 "nbformat": 4,
 "nbformat_minor": 4
}
