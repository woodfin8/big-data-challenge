{
 "cells": [
  {
   "cell_type": "code",
   "execution_count": 1,
   "metadata": {},
   "outputs": [],
   "source": [
    "%matplotlib inline\n",
    "from config import pword\n",
    "import matplotlib.pyplot as plt\n",
    "import pandas as pd"
   ]
  },
  {
   "cell_type": "code",
   "execution_count": 2,
   "metadata": {},
   "outputs": [],
   "source": [
    "import findspark\n",
    "findspark.init()\n",
    "findspark.find()\n",
    "import pyspark\n",
    "from pyspark.sql.types import StructType, StructField, StringType, IntegerType\n",
    "# from config import password "
   ]
  },
  {
   "cell_type": "code",
   "execution_count": 3,
   "metadata": {},
   "outputs": [],
   "source": [
    "from pyspark.sql import SparkSession\n",
    "from pyspark.sql.functions import to_timestamp\n",
    "spark = SparkSession.builder.appName('pyspark_app') \\\n",
    ".config('spark.driver.extraClassPath','postgresql-42.2.11') \\\n",
    ".master('local[*]') \\\n",
    ".getOrCreate()\n"
   ]
  },
  {
   "cell_type": "code",
   "execution_count": 4,
   "metadata": {},
   "outputs": [],
   "source": [
    "from pyspark import SparkFiles\n",
    "from pyspark.sql.functions import to_date\n",
    "from pyspark.sql.functions import round, col"
   ]
  },
  {
   "cell_type": "code",
   "execution_count": 11,
   "metadata": {},
   "outputs": [],
   "source": [
    "#path for toys\n",
    "url2 = \"https://s3.amazonaws.com/amazon-reviews-pds/tsv/amazon_reviews_us_Toys_v1_00.tsv.gz\""
   ]
  },
  {
   "cell_type": "code",
   "execution_count": 12,
   "metadata": {},
   "outputs": [],
   "source": [
    "#add url file\n",
    "spark.sparkContext.addFile(url2)"
   ]
  },
  {
   "cell_type": "code",
   "execution_count": 14,
   "metadata": {},
   "outputs": [],
   "source": [
    "df = spark.read.option(\"header\", \"true\").csv(SparkFiles.get\n",
    "                                             (\"amazon_reviews_us_Toys_v1_00.tsv.gz\"), inferSchema=True, sep='\\t')"
   ]
  },
  {
   "cell_type": "code",
   "execution_count": 15,
   "metadata": {},
   "outputs": [
    {
     "name": "stdout",
     "output_type": "stream",
     "text": [
      "There are 4864249 rows in the video game dataframe\n"
     ]
    }
   ],
   "source": [
    "print(f'There are {df.count()} rows in the video game dataframe')"
   ]
  },
  {
   "cell_type": "code",
   "execution_count": 16,
   "metadata": {},
   "outputs": [],
   "source": [
    "#create column in correct date format\n",
    "df = df.withColumn(\"date\", to_date(df['review_date']))"
   ]
  },
  {
   "cell_type": "code",
   "execution_count": 17,
   "metadata": {},
   "outputs": [
    {
     "name": "stdout",
     "output_type": "stream",
     "text": [
      "root\n",
      " |-- marketplace: string (nullable = true)\n",
      " |-- customer_id: integer (nullable = true)\n",
      " |-- review_id: string (nullable = true)\n",
      " |-- product_id: string (nullable = true)\n",
      " |-- product_parent: integer (nullable = true)\n",
      " |-- product_title: string (nullable = true)\n",
      " |-- product_category: string (nullable = true)\n",
      " |-- star_rating: integer (nullable = true)\n",
      " |-- helpful_votes: integer (nullable = true)\n",
      " |-- total_votes: integer (nullable = true)\n",
      " |-- vine: string (nullable = true)\n",
      " |-- verified_purchase: string (nullable = true)\n",
      " |-- review_headline: string (nullable = true)\n",
      " |-- review_body: string (nullable = true)\n",
      " |-- review_date: timestamp (nullable = true)\n",
      " |-- date: date (nullable = true)\n",
      "\n"
     ]
    }
   ],
   "source": [
    "df.printSchema()"
   ]
  },
  {
   "cell_type": "code",
   "execution_count": 18,
   "metadata": {},
   "outputs": [
    {
     "name": "stdout",
     "output_type": "stream",
     "text": [
      "+--------------+-----------+----------+--------------+----------+\n",
      "|     review_id|customer_id|product_id|product_parent|      date|\n",
      "+--------------+-----------+----------+--------------+----------+\n",
      "| RDIJS7QYB6XNR|   18778586|B00EDBY7X8|     122952789|2015-08-31|\n",
      "|R36ED1U38IELG8|   24769659|B00D7JFOPC|     952062646|2015-08-31|\n",
      "| R1UE3RPRGCOLD|   44331596|B002LHA74O|     818126353|2015-08-31|\n",
      "|R298788GS6I901|   23310293|B00ARPLCGY|     261944918|2015-08-31|\n",
      "|  RNX4EXOBBPN5|   38745832|B00UZOPOFW|     717410439|2015-08-31|\n",
      "+--------------+-----------+----------+--------------+----------+\n",
      "only showing top 5 rows\n",
      "\n"
     ]
    }
   ],
   "source": [
    "#create reviews df\n",
    "review_df = df.select([\"review_id\", \"customer_id\", \"product_id\", \"product_parent\", \"date\"])\n",
    "review_df.show(5)"
   ]
  },
  {
   "cell_type": "code",
   "execution_count": null,
   "metadata": {},
   "outputs": [],
   "source": []
  },
  {
   "cell_type": "code",
   "execution_count": 19,
   "metadata": {},
   "outputs": [
    {
     "name": "stdout",
     "output_type": "stream",
     "text": [
      "+--------------+-----------+----------+--------------+----------+\n",
      "|     review_id|customer_id|product_id|product_parent|      date|\n",
      "+--------------+-----------+----------+--------------+----------+\n",
      "|R1HN7EVNEN51LR|   52981203|087431254X|     828464997|1997-01-05|\n",
      "|R13AWVNEKSY9M1|   51898365|0786902345|     219342170|1998-06-11|\n",
      "|R17ULZ2VC0O3CG|   52552376|0786901438|     842160633|1998-07-27|\n",
      "|R3K9ZYANG0OFJB|   52359446|0786901438|     842160633|1998-10-12|\n",
      "|R1UP8F8Y4GC3IE|   52633682|0811821587|     713499567|1998-11-08|\n",
      "|R3NKPKIBIWQH3Z|   52290892|0811821587|     713499567|1998-11-15|\n",
      "|R2R8VT48Z9HZUB|   52869502|B00000DMBQ|     419014956|1998-11-18|\n",
      "| R3LS3DOYDLPFE|   52912621|B00000DMBD|     141217454|1998-11-18|\n",
      "|R1VLOYQSQYGTW0|   50986568|B00000DMBQ|     419014956|1998-11-19|\n",
      "|R39WQRXHE773AZ|   52702559|B00000DMER|     579979198|1998-11-19|\n",
      "|R1LGX0XI8HMJD5|   52551381|B00000DMDO|      48281612|1998-11-19|\n",
      "|R1QAWI39L1RP6L|   51715163|0811821587|     713499567|1998-11-20|\n",
      "|R1E0ZP5W669QRK|   52768558|B00000DMBD|     141217454|1998-11-21|\n",
      "|R1C5GRNR8YJZB4|   51908097|B00000DMER|     579979198|1998-11-22|\n",
      "| RX6OVBR9HW8UT|   52239592|B00000DMEB|     490342209|1998-11-22|\n",
      "|R1KVM39UZUL3RM|   52142708|B00000DMFU|     282758297|1998-11-23|\n",
      "|R358ZOGVA3U282|   52209871|B00000DMBJ|     191207527|1998-11-23|\n",
      "|R38OUW047HVFOA|   51169146|B00000DMDS|     359134404|1998-11-24|\n",
      "|  R9P58SVTC6WX|   52462018|1572810173|     558088113|1998-11-30|\n",
      "|R18ZLUQY7Z1O1A|   53011362|B00000DMFK|     199310715|1998-11-30|\n",
      "+--------------+-----------+----------+--------------+----------+\n",
      "only showing top 20 rows\n",
      "\n"
     ]
    }
   ],
   "source": [
    "review_df = review_df.filter(review_df['date'].isNotNull())\n",
    "review_df = review_df.orderBy(review_df['date'].asc())\n",
    "review_df.show()"
   ]
  },
  {
   "cell_type": "code",
   "execution_count": 20,
   "metadata": {},
   "outputs": [],
   "source": [
    "#create customer df with unique custy id\n",
    "custy_df = df.groupBy('customer_id').count()"
   ]
  },
  {
   "cell_type": "code",
   "execution_count": 21,
   "metadata": {},
   "outputs": [],
   "source": [
    "#rename count col\n",
    "custy_df = custy_df.withColumnRenamed('count','customer_count')"
   ]
  },
  {
   "cell_type": "code",
   "execution_count": 22,
   "metadata": {},
   "outputs": [
    {
     "name": "stdout",
     "output_type": "stream",
     "text": [
      "+-----------+--------------+\n",
      "|customer_id|customer_count|\n",
      "+-----------+--------------+\n",
      "|   16989307|             1|\n",
      "|   45632184|             2|\n",
      "|   14703850|            13|\n",
      "|   49645387|             2|\n",
      "|   16343477|             1|\n",
      "+-----------+--------------+\n",
      "only showing top 5 rows\n",
      "\n"
     ]
    }
   ],
   "source": [
    "custy_df.show(5)"
   ]
  },
  {
   "cell_type": "code",
   "execution_count": 23,
   "metadata": {},
   "outputs": [],
   "source": [
    "#create prod df with unique prod id\n",
    "prod_df = df.select([\"product_id\", \"product_title\"])\n",
    "prod_df = prod_df.dropDuplicates(['product_id'])"
   ]
  },
  {
   "cell_type": "code",
   "execution_count": 24,
   "metadata": {},
   "outputs": [
    {
     "data": {
      "text/plain": [
       "664062"
      ]
     },
     "execution_count": 24,
     "metadata": {},
     "output_type": "execute_result"
    }
   ],
   "source": [
    "prod_df.count()"
   ]
  },
  {
   "cell_type": "code",
   "execution_count": 33,
   "metadata": {},
   "outputs": [
    {
     "name": "stdout",
     "output_type": "stream",
     "text": [
      "+--------------+-----------+-------------+-----------+----+\n",
      "|     review_id|star_rating|helpful_votes|total_votes|vine|\n",
      "+--------------+-----------+-------------+-----------+----+\n",
      "| RDIJS7QYB6XNR|          5|            0|          0|   N|\n",
      "|R36ED1U38IELG8|          5|            0|          0|   N|\n",
      "| R1UE3RPRGCOLD|          2|            1|          1|   N|\n",
      "|R298788GS6I901|          5|            0|          0|   N|\n",
      "|  RNX4EXOBBPN5|          1|            1|          1|   N|\n",
      "+--------------+-----------+-------------+-----------+----+\n",
      "only showing top 5 rows\n",
      "\n",
      "root\n",
      " |-- review_id: string (nullable = true)\n",
      " |-- star_rating: integer (nullable = true)\n",
      " |-- helpful_votes: integer (nullable = true)\n",
      " |-- total_votes: integer (nullable = true)\n",
      " |-- vine: string (nullable = true)\n",
      "\n"
     ]
    }
   ],
   "source": [
    "#create vine df\n",
    "vine_df = df.select([\"review_id\", \"star_rating\", \"helpful_votes\", \"total_votes\", \"vine\"])\n",
    "vine_df.show(5)\n",
    "vine_df.printSchema()"
   ]
  },
  {
   "cell_type": "code",
   "execution_count": 26,
   "metadata": {},
   "outputs": [],
   "source": [
    "# Configure settings for RDS\n",
    "mode = \"append\"\n",
    "jdbc_url=\"jdbc:postgresql://big-data-2.cpclfqan17p9.us-east-1.rds.amazonaws.com:5432/bd-homework\"\n",
    "config = {\"user\":\"postgres\", \n",
    "          \"password\": pword, \n",
    "          \"driver\":\"org.postgresql.Driver\"}"
   ]
  },
  {
   "cell_type": "code",
   "execution_count": 27,
   "metadata": {},
   "outputs": [],
   "source": [
    "#write reviews to RDS\n",
    "review_df.write.jdbc(url=jdbc_url, table='toy_review_id_table', mode=mode, properties=config)"
   ]
  },
  {
   "cell_type": "code",
   "execution_count": 28,
   "metadata": {},
   "outputs": [],
   "source": [
    "#write customers\n",
    "custy_df.write.jdbc(url=jdbc_url, table='toy_customers', mode=mode, properties=config)"
   ]
  },
  {
   "cell_type": "code",
   "execution_count": 29,
   "metadata": {},
   "outputs": [],
   "source": [
    "#write products\n",
    "prod_df.write.jdbc(url=jdbc_url, table='toy_products', mode=mode, properties=config)"
   ]
  },
  {
   "cell_type": "code",
   "execution_count": 30,
   "metadata": {},
   "outputs": [],
   "source": [
    "#write vine\n",
    "vine_df.write.jdbc(url=jdbc_url, table='toy_vine_table', mode=mode, properties=config)"
   ]
  },
  {
   "cell_type": "code",
   "execution_count": 35,
   "metadata": {},
   "outputs": [],
   "source": [
    "#import functions\n",
    "from pyspark.sql.functions import count, avg, sum"
   ]
  },
  {
   "cell_type": "code",
   "execution_count": 36,
   "metadata": {},
   "outputs": [],
   "source": [
    "#create function to run analysis on reviews in (\"Y\") and out of (\"N\") vine program \n",
    "def vine_program(yes_no):\n",
    "    #dopr all rows that have no votes\n",
    "    filter_df = vine_df.filter(vine_df[\"total_votes\"]>0)\n",
    "    df = filter_df.filter(vine_df[\"vine\"] == yes_no).groupBy('star_rating').count()\n",
    "    #rename count col\n",
    "    df = df.withColumnRenamed('count','star_count')\n",
    "    #count vine reviews\n",
    "    total = df.groupBy().sum('star_count').collect()[0][0]\n",
    "    print(f'There are {total} reviews with vine marker {yes_no} and at least one vote')\n",
    "    #create percent of total column\n",
    "    df = df.withColumn('star_pct',round(df['star_count']/total,4))\n",
    "    #get total number of helpful votes by star rating\n",
    "    df_help = vine_df.filter(vine_df[\"vine\"] == yes_no).groupBy('star_rating').agg(sum('helpful_votes'),sum('total_votes'))\n",
    "    #rename helpful votes col\n",
    "    df_help = df_help.withColumnRenamed('sum(helpful_votes)', 'helpful_votes').withColumnRenamed('sum(total_votes)',\n",
    "                                                                                                 'total_votes')\n",
    "    #join helpful votes to vine ratings\n",
    "    df = df.join(df_help,['star_rating'])\n",
    "    #create column which averages # of helpful votes by star\n",
    "    df = df.withColumn('helpful_avg',round(df['helpful_votes']/df['star_count'],4))\n",
    "    df = df.withColumn('helpful_ratio',round(df['helpful_votes']/df['total_votes'],4))\n",
    "    \n",
    "    #order by star rating\n",
    "    df = df.orderBy(df['star_rating'].asc())\n",
    "    #show schema\n",
    "    df.printSchema()\n",
    "    global pandas_df\n",
    "    pandas_df = df.toPandas()\n",
    "    if yes_no == \"Y\":\n",
    "        color = \"blue\"\n",
    "        title = \"Vine\"\n",
    "    else:\n",
    "        color = \"red\"\n",
    "        title = \"Non-Vine\"\n",
    "        \n",
    "    #plot number of reviews by star rating\n",
    "    plt.figure(figsize=(10,6))\n",
    "    plt.bar(pandas_df['star_rating'],pandas_df['star_pct'], color =color)\n",
    "    plt.title(f\"{title} Reviews\", fontsize=20)\n",
    "    plt.xlabel(\"Star Rating\", fontsize=16)\n",
    "    plt.ylabel(\"% of Ratings\", fontsize=16)\n",
    "    plt.xticks(fontsize=16)\n",
    "    plt.yticks(fontsize=16)\n",
    "    plt.savefig(f\"{title}_toy_reviews.png\")\n",
    "    #plot average of helpful votes per review by star ratings\n",
    "    plt.figure(figsize=(10,6))\n",
    "    plt.bar(pandas_df['star_rating'],pandas_df['helpful_avg'], color =color)\n",
    "    plt.title(f\"Avg # of Helpful Votes per {title} Review\", fontsize=20)\n",
    "    plt.xlabel(\"Star Rating\", fontsize=16)\n",
    "    plt.ylabel(\"Average\", fontsize=16)\n",
    "    plt.xticks(fontsize=16)\n",
    "    plt.yticks(fontsize=16)\n",
    "    plt.savefig(f\"{title}_toy_help_avg.png\")\n",
    "    #plot helpful vote ratio by star ratings\n",
    "    plt.figure(figsize=(10,6))\n",
    "    plt.bar(pandas_df['star_rating'],pandas_df['helpful_ratio'], color =color)\n",
    "    plt.title(f\"Helpful Vote Ratio for {title} Reviews\", fontsize=20)\n",
    "    plt.xlabel(\"Star Rating\", fontsize=16)\n",
    "    plt.ylabel(\"Percent\", fontsize=16)\n",
    "    plt.xticks(fontsize=16)\n",
    "    plt.yticks(fontsize=16)\n",
    "    plt.savefig(f\"{title}_toy_ratio.png\")\n",
    "    #save pandas_df as csv\n",
    "    pandas_df.to_csv(f\"{yes_no}_toy_summary\", index=False)\n",
    "    return df.show()\n",
    "    \n",
    "    "
   ]
  },
  {
   "cell_type": "code",
   "execution_count": 37,
   "metadata": {},
   "outputs": [
    {
     "name": "stdout",
     "output_type": "stream",
     "text": [
      "There are 21240 reviews with vine marker Y and at least one vote\n",
      "root\n",
      " |-- star_rating: integer (nullable = true)\n",
      " |-- star_count: long (nullable = false)\n",
      " |-- star_pct: double (nullable = true)\n",
      " |-- helpful_votes: long (nullable = true)\n",
      " |-- total_votes: long (nullable = true)\n",
      " |-- helpful_avg: double (nullable = true)\n",
      " |-- helpful_ratio: double (nullable = true)\n",
      "\n",
      "+-----------+----------+--------+-------------+-----------+-----------+-------------+\n",
      "|star_rating|star_count|star_pct|helpful_votes|total_votes|helpful_avg|helpful_ratio|\n",
      "+-----------+----------+--------+-------------+-----------+-----------+-------------+\n",
      "|          1|       426|  0.0201|         2945|       4131|     6.9131|       0.7129|\n",
      "|          2|      1172|  0.0552|         6784|       8826|     5.7884|       0.7686|\n",
      "|          3|      3765|  0.1773|        25450|      30869|     6.7596|       0.8245|\n",
      "|          4|      7616|  0.3586|        38339|      46127|      5.034|       0.8312|\n",
      "|          5|      8261|  0.3889|        40058|      48111|      4.849|       0.8326|\n",
      "+-----------+----------+--------+-------------+-----------+-----------+-------------+\n",
      "\n"
     ]
    },
    {
     "data": {
      "image/png": "[encoded data removed]",
      "text/plain": [
       "<Figure size 720x432 with 1 Axes>"
      ]
     },
     "metadata": {
      "needs_background": "light"
     },
     "output_type": "display_data"
    },
    {
     "data": {
      "image/png": "[encoded data removed]",
      "text/plain": [
       "<Figure size 720x432 with 1 Axes>"
      ]
     },
     "metadata": {
      "needs_background": "light"
     },
     "output_type": "display_data"
    },
    {
     "data": {
      "image/png": "[encoded data removed]",
      "text/plain": [
       "<Figure size 720x432 with 1 Axes>"
      ]
     },
     "metadata": {
      "needs_background": "light"
     },
     "output_type": "display_data"
    }
   ],
   "source": [
    "vine_program(\"Y\")"
   ]
  },
  {
   "cell_type": "code",
   "execution_count": 38,
   "metadata": {},
   "outputs": [
    {
     "name": "stdout",
     "output_type": "stream",
     "text": [
      "There are 1831664 reviews with vine marker N and at least one vote\n",
      "root\n",
      " |-- star_rating: integer (nullable = true)\n",
      " |-- star_count: long (nullable = false)\n",
      " |-- star_pct: double (nullable = true)\n",
      " |-- helpful_votes: long (nullable = true)\n",
      " |-- total_votes: long (nullable = true)\n",
      " |-- helpful_avg: double (nullable = true)\n",
      " |-- helpful_ratio: double (nullable = true)\n",
      "\n",
      "+-----------+----------+--------+-------------+-----------+-----------+-------------+\n",
      "|star_rating|star_count|star_pct|helpful_votes|total_votes|helpful_avg|helpful_ratio|\n",
      "+-----------+----------+--------+-------------+-----------+-----------+-------------+\n",
      "|          1|    250312|  0.1367|      1090978|    1684065|     4.3585|       0.6478|\n",
      "|          2|    123261|  0.0673|       480539|     668503|     3.8985|       0.7188|\n",
      "|          3|    179277|  0.0979|       700301|     924949|     3.9063|       0.7571|\n",
      "|          4|    297343|  0.1623|      1180021|    1405786|     3.9686|       0.8394|\n",
      "|          5|    981471|  0.5358|      3618394|    4268106|     3.6867|       0.8478|\n",
      "+-----------+----------+--------+-------------+-----------+-----------+-------------+\n",
      "\n"
     ]
    },
    {
     "data": {
      "image/png": "[encoded data removed]",
      "text/plain": [
       "<Figure size 720x432 with 1 Axes>"
      ]
     },
     "metadata": {
      "needs_background": "light"
     },
     "output_type": "display_data"
    },
    {
     "data": {
      "image/png": "[encoded data removed]",
      "text/plain": [
       "<Figure size 720x432 with 1 Axes>"
      ]
     },
     "metadata": {
      "needs_background": "light"
     },
     "output_type": "display_data"
    },
    {
     "data": {
      "image/png": "[encoded data removed]",
      "text/plain": [
       "<Figure size 720x432 with 1 Axes>"
      ]
     },
     "metadata": {
      "needs_background": "light"
     },
     "output_type": "display_data"
    }
   ],
   "source": [
    "vine_program(\"N\")"
   ]
  },
  {
   "cell_type": "code",
   "execution_count": null,
   "metadata": {},
   "outputs": [],
   "source": [
    "from pyspark.sql import Window\n",
    "from pyspark.sql.functions import row_number"
   ]
  },
  {
   "cell_type": "code",
   "execution_count": 60,
   "metadata": {},
   "outputs": [],
   "source": [
    "def custy_analysis(yes_no):\n",
    "    cust_check_df =  df.select([\"customer_id\", \"star_rating\", \"helpful_votes\", \"total_votes\", \"vine\"])\n",
    "    #filter for interviewers in the vine program and received at least one vote\n",
    "    cust_check_df = cust_check_df.filter(cust_check_df['vine'] == yes_no).filter(cust_check_df['total_votes']>0)\n",
    "    #group by customer id, get average star_rating, sum helpful_votes and sum total_votes\n",
    "    group_cust_df = cust_check_df.groupBy(\"customer_id\").agg(count(\"customer_id\"),avg(\"star_rating\"), sum(\"helpful_votes\"),\n",
    "                                                             sum(\"total_votes\"))\n",
    "    #rename columns\n",
    "    group_cust_df = group_cust_df.withColumnRenamed('count(customer_id)', 'total_reviews').withColumnRenamed('avg(star_rating)',\n",
    "                            'avg_rating').withColumnRenamed('sum(helpful_votes)','total_helpful_votes').withColumnRenamed(\n",
    "                            'sum(total_votes)','total_votes')\n",
    "    #sort by total reviews\n",
    "    group_cust_df = group_cust_df.orderBy(group_cust_df['total_reviews'].asc())\n",
    "    #add index columns\n",
    "    w = Window.orderBy(\"total_reviews\") \n",
    "    group_cust_df = group_cust_df.withColumn(\"index\", row_number().over(w))\n",
    "    #create top reviewers dataframe. Interviewers have at least 10 reviews\n",
    "    top_cust_df = group_cust_df.filter(group_cust_df['total_reviews'] >= 10)\n",
    "    #count number of top reviewers\n",
    "    top = top_cust_df.count()\n",
    "    #add column which gives ratio of helpful votes to total votes\n",
    "    top_cust_df = top_cust_df.withColumn('helpful_ratio',round(top_cust_df['total_helpful_votes']/top_cust_df['total_votes'],4))\n",
    "    #sort by helpful_ratio\n",
    "    top_cust_df = top_cust_df.orderBy(top_cust_df['helpful_ratio'].asc())\n",
    "    #count total number of interviews with a helpful ration below 50%\n",
    "    low_help_df = top_cust_df.filter(top_cust_df['helpful_ratio']<0.50)\n",
    "    low = low_help_df.count()\n",
    "    print(f'Percentage of top reviewers with low ratings {low/top}')\n",
    "    "
   ]
  },
  {
   "cell_type": "code",
   "execution_count": 61,
   "metadata": {},
   "outputs": [
    {
     "name": "stdout",
     "output_type": "stream",
     "text": [
      "Percentage of top reviewers with low ratings 0.0411522633744856\n"
     ]
    }
   ],
   "source": [
    "custy_analysis(\"Y\")"
   ]
  },
  {
   "cell_type": "code",
   "execution_count": 62,
   "metadata": {},
   "outputs": [
    {
     "name": "stdout",
     "output_type": "stream",
     "text": [
      "Percentage of top reviewers with low ratings 0.07190082644628099\n"
     ]
    }
   ],
   "source": [
    "custy_analysis(\"N\")"
   ]
  },
  {
   "cell_type": "code",
   "execution_count": 40,
   "metadata": {},
   "outputs": [],
   "source": [
    "#run analysis on vine reviewers\n",
    "#select necessary fields \n",
    "cust_check_df =  df.select([\"customer_id\", \"star_rating\", \"helpful_votes\", \"total_votes\", \"vine\"])\n",
    "#filter for interviewers in the vine program and received at least one vote\n",
    "cust_check_df = cust_check_df.filter(cust_check_df['vine'] == 'Y').filter(cust_check_df['total_votes']>0)"
   ]
  },
  {
   "cell_type": "code",
   "execution_count": 41,
   "metadata": {},
   "outputs": [
    {
     "name": "stdout",
     "output_type": "stream",
     "text": [
      "+-----------+-----------+-------------+-----------+----+\n",
      "|customer_id|star_rating|helpful_votes|total_votes|vine|\n",
      "+-----------+-----------+-------------+-----------+----+\n",
      "|   27225859|          3|            0|          1|   Y|\n",
      "|   53067113|          5|           19|         20|   Y|\n",
      "|   39828223|          4|            2|          4|   Y|\n",
      "|   44759540|          5|           22|         23|   Y|\n",
      "|   44737123|          4|            1|          1|   Y|\n",
      "+-----------+-----------+-------------+-----------+----+\n",
      "only showing top 5 rows\n",
      "\n"
     ]
    }
   ],
   "source": [
    "\n",
    "cust_check_df.show(5)"
   ]
  },
  {
   "cell_type": "code",
   "execution_count": 42,
   "metadata": {},
   "outputs": [],
   "source": [
    "#group by customer id, get average star_rating, sum helpful_votes and sum total_votes\n",
    "group_cust_df = cust_check_df.groupBy(\"customer_id\").agg(count(\"customer_id\"),avg(\"star_rating\"), sum(\"helpful_votes\"), sum(\"total_votes\"))"
   ]
  },
  {
   "cell_type": "code",
   "execution_count": 43,
   "metadata": {},
   "outputs": [
    {
     "name": "stdout",
     "output_type": "stream",
     "text": [
      "+-----------+------------------+-----------------+------------------+----------------+\n",
      "|customer_id|count(customer_id)| avg(star_rating)|sum(helpful_votes)|sum(total_votes)|\n",
      "+-----------+------------------+-----------------+------------------+----------------+\n",
      "|   52773179|                20|             4.05|               188|             218|\n",
      "|   41549558|                21|4.285714285714286|                81|             107|\n",
      "|   17481726|                15|              4.0|                41|              51|\n",
      "|   51854558|                 5|              4.6|                26|              30|\n",
      "|   38679000|                 7|4.142857142857143|                10|              13|\n",
      "+-----------+------------------+-----------------+------------------+----------------+\n",
      "only showing top 5 rows\n",
      "\n"
     ]
    }
   ],
   "source": [
    "group_cust_df.show(5)"
   ]
  },
  {
   "cell_type": "code",
   "execution_count": 44,
   "metadata": {},
   "outputs": [],
   "source": [
    "#rename columns\n",
    "group_cust_df = group_cust_df.withColumnRenamed('count(customer_id)', 'total_reviews').withColumnRenamed('avg(star_rating)',\n",
    "                            'avg_rating').withColumnRenamed('sum(helpful_votes)','total_helpful_votes').withColumnRenamed(\n",
    "                            'sum(total_votes)','total_votes')"
   ]
  },
  {
   "cell_type": "code",
   "execution_count": 45,
   "metadata": {},
   "outputs": [
    {
     "name": "stdout",
     "output_type": "stream",
     "text": [
      "+-------+-------------------+-----------------+------------------+-------------------+-----------------+\n",
      "|summary|        customer_id|    total_reviews|        avg_rating|total_helpful_votes|      total_votes|\n",
      "+-------+-------------------+-----------------+------------------+-------------------+-----------------+\n",
      "|  count|               3201|             3201|              3201|               3201|             3201|\n",
      "|   mean|4.009961927897532E7|6.635426429240862| 4.000954328269827|  35.48141205873165|43.13152139956264|\n",
      "| stddev|1.330370223185349E7|8.387631195749714|0.7240801154902887|   80.6991812691149|89.19988373992352|\n",
      "|    min|           10044936|                1|               1.0|                  0|                1|\n",
      "|    max|           53096389|              116|               5.0|               1352|             1427|\n",
      "+-------+-------------------+-----------------+------------------+-------------------+-----------------+\n",
      "\n"
     ]
    }
   ],
   "source": [
    "group_cust_df.describe().show()"
   ]
  },
  {
   "cell_type": "code",
   "execution_count": 46,
   "metadata": {},
   "outputs": [],
   "source": [
    "#sort by total reviews\n",
    "group_cust_df = group_cust_df.orderBy(group_cust_df['total_reviews'].asc())"
   ]
  },
  {
   "cell_type": "code",
   "execution_count": 47,
   "metadata": {},
   "outputs": [],
   "source": [
    "#add index column\n",
    "from pyspark.sql import Window\n",
    "from pyspark.sql.functions import row_number\n",
    "w = Window.orderBy(\"total_reviews\") \n",
    "group_cust_df = group_cust_df.withColumn(\"index\", row_number().over(w))"
   ]
  },
  {
   "cell_type": "code",
   "execution_count": 48,
   "metadata": {},
   "outputs": [
    {
     "name": "stdout",
     "output_type": "stream",
     "text": [
      "+-----------+-------------+----------+-------------------+-----------+-----+\n",
      "|customer_id|total_reviews|avg_rating|total_helpful_votes|total_votes|index|\n",
      "+-----------+-------------+----------+-------------------+-----------+-----+\n",
      "|   22978817|            1|       4.0|                  1|          1|    1|\n",
      "|   51667424|            1|       4.0|                  2|          2|    2|\n",
      "|   49214860|            1|       3.0|                  2|          2|    3|\n",
      "|   52076994|            1|       3.0|                  1|          1|    4|\n",
      "|   41591813|            1|       4.0|                 26|         27|    5|\n",
      "+-----------+-------------+----------+-------------------+-----------+-----+\n",
      "only showing top 5 rows\n",
      "\n"
     ]
    }
   ],
   "source": [
    "group_cust_df.show(5)"
   ]
  },
  {
   "cell_type": "code",
   "execution_count": 49,
   "metadata": {},
   "outputs": [],
   "source": [
    "#create top reviewers dataframe. Interviewers have at least 10 reviews\n",
    "top_cust_df = group_cust_df.filter(group_cust_df['total_reviews'] >= 10)"
   ]
  },
  {
   "cell_type": "code",
   "execution_count": 57,
   "metadata": {},
   "outputs": [],
   "source": [
    "#count number of top reviewers\n",
    "top = top_cust_df.count()"
   ]
  },
  {
   "cell_type": "code",
   "execution_count": 51,
   "metadata": {},
   "outputs": [],
   "source": [
    "#add column which gives ratio of helpful votes to total votes\n",
    "top_cust_df = top_cust_df.withColumn('helpful_ratio',round(top_cust_df['total_helpful_votes']/top_cust_df['total_votes'],4))"
   ]
  },
  {
   "cell_type": "code",
   "execution_count": 52,
   "metadata": {},
   "outputs": [
    {
     "name": "stdout",
     "output_type": "stream",
     "text": [
      "+-----------+-------------+------------------+-------------------+-----------+-----+-------------+\n",
      "|customer_id|total_reviews|        avg_rating|total_helpful_votes|total_votes|index|helpful_ratio|\n",
      "+-----------+-------------+------------------+-------------------+-----------+-----+-------------+\n",
      "|   17061459|           10|               4.8|                  3|         13| 2482|       0.2308|\n",
      "|   51286713|           10|               4.2|                  6|         20| 2532|          0.3|\n",
      "|   45187567|           22| 4.409090909090909|                 12|         40| 3025|          0.3|\n",
      "|   19665109|           11|               4.0|                  6|         19| 2579|       0.3158|\n",
      "|   50666371|           14|3.9285714285714284|                  6|         19| 2775|       0.3158|\n",
      "|   50977226|           11| 4.090909090909091|                  5|         15| 2583|       0.3333|\n",
      "|   37928448|           10|               3.9|                 11|         32| 2529|       0.3438|\n",
      "|   11906609|           12|               4.5|                  9|         26| 2626|       0.3462|\n",
      "|   49765606|           10|               4.3|                  6|         17| 2506|       0.3529|\n",
      "|   51054539|           10|               4.5|                  7|         18| 2511|       0.3889|\n",
      "|   49104808|           12|3.6666666666666665|                 11|         28| 2647|       0.3929|\n",
      "|   31125652|           10|               4.6|                  9|         22| 2473|       0.4091|\n",
      "|   43861613|           13|3.3846153846153846|                  9|         22| 2735|       0.4091|\n",
      "|   43127548|           10|               3.7|                  7|         17| 2493|       0.4118|\n",
      "|   49753147|           10|               4.5|                  7|         16| 2483|       0.4375|\n",
      "|   21639363|           16|            2.8125|                 14|         32| 2864|       0.4375|\n",
      "|   49253287|           13| 4.846153846153846|                 14|         32| 2696|       0.4375|\n",
      "|   17975655|           15|               4.4|                 12|         27| 2834|       0.4444|\n",
      "|   44199492|           10|               4.5|                  9|         20| 2521|         0.45|\n",
      "|   16729093|           10|               4.6|                  6|         13| 2527|       0.4615|\n",
      "|   47761030|           15|               4.2|                 14|         30| 2841|       0.4667|\n",
      "|   50046574|           14|3.7857142857142856|                 15|         32| 2801|       0.4688|\n",
      "|   52182924|           10|               4.5|                 10|         21| 2497|       0.4762|\n",
      "|   16546061|           19| 3.789473684210526|                 31|         65| 2946|       0.4769|\n",
      "|   36850928|           10|               5.0|                 12|         25| 2492|         0.48|\n",
      "+-----------+-------------+------------------+-------------------+-----------+-----+-------------+\n",
      "only showing top 25 rows\n",
      "\n"
     ]
    }
   ],
   "source": [
    "#sort by helpful_ratio\n",
    "top_cust_df = top_cust_df.orderBy(top_cust_df['helpful_ratio'].asc())\n",
    "top_cust_df.show(25)"
   ]
  },
  {
   "cell_type": "code",
   "execution_count": 56,
   "metadata": {},
   "outputs": [],
   "source": [
    "#count total number of interviews with a helpful ration below 50%\n",
    "low_help_df = top_cust_df.filter(top_cust_df['helpful_ratio']<0.50)\n",
    "low = low_help_df.count()"
   ]
  },
  {
   "cell_type": "code",
   "execution_count": 58,
   "metadata": {},
   "outputs": [
    {
     "name": "stdout",
     "output_type": "stream",
     "text": [
      "Percentage of top reviewers with low ratings 0.0411522633744856\n"
     ]
    }
   ],
   "source": [
    "print(f'Percentage of top reviewers with low ratings {low/top}')"
   ]
  },
  {
   "cell_type": "code",
   "execution_count": null,
   "metadata": {},
   "outputs": [],
   "source": []
  }
 ],
 "metadata": {
  "kernelspec": {
   "display_name": "Python 3",
   "language": "python",
   "name": "python3"
  },
  "language_info": {
   "codemirror_mode": {
    "name": "ipython",
    "version": 3
   },
   "file_extension": ".py",
   "mimetype": "text/x-python",
   "name": "python",
   "nbconvert_exporter": "python",
   "pygments_lexer": "ipython3",
   "version": "3.7.6"
  }
 },
 "nbformat": 4,
 "nbformat_minor": 4
}
