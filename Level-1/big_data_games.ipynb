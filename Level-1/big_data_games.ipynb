{
 "cells": [
  {
   "cell_type": "code",
   "execution_count": 5,
   "metadata": {},
   "outputs": [],
   "source": [
    "%matplotlib inline\n",
    "from config import pword\n",
    "import matplotlib.pyplot as plt\n"
   ]
  },
  {
   "cell_type": "code",
   "execution_count": 6,
   "metadata": {},
   "outputs": [],
   "source": [
    "import findspark\n",
    "findspark.init()\n",
    "findspark.find()\n",
    "import pyspark\n",
    "from pyspark.sql.types import StructType, StructField, StringType, IntegerType\n",
    "# from config import password "
   ]
  },
  {
   "cell_type": "code",
   "execution_count": 7,
   "metadata": {},
   "outputs": [],
   "source": [
    "from pyspark.sql import SparkSession\n",
    "from pyspark.sql.functions import to_timestamp\n",
    "spark = SparkSession.builder.appName('pyspark_app') \\\n",
    ".config('spark.driver.extraClassPath','postgresql-42.2.11') \\\n",
    ".master('local[*]') \\\n",
    ".getOrCreate()\n"
   ]
  },
  {
   "cell_type": "code",
   "execution_count": 35,
   "metadata": {},
   "outputs": [],
   "source": [
    "from pyspark import SparkFiles\n",
    "from pyspark.sql.functions import to_date\n",
    "from pyspark.sql.functions import round, col"
   ]
  },
  {
   "cell_type": "code",
   "execution_count": 9,
   "metadata": {},
   "outputs": [],
   "source": [
    "#path for video games\n",
    "url = \"https://s3.amazonaws.com/amazon-reviews-pds/tsv/amazon_reviews_us_Video_Games_v1_00.tsv.gz\"\n",
    "#path for toys\n",
    "# url2 = \"https://s3.amazonaws.com/amazon-reviews-pds/tsv/amazon_reviews_us_Toys_v1_00.tsv.gz\""
   ]
  },
  {
   "cell_type": "code",
   "execution_count": 10,
   "metadata": {},
   "outputs": [],
   "source": [
    "#add url file\n",
    "spark.sparkContext.addFile(url)"
   ]
  },
  {
   "cell_type": "code",
   "execution_count": 11,
   "metadata": {},
   "outputs": [],
   "source": [
    "df = spark.read.option(\"header\", \"true\").csv(SparkFiles.get\n",
    "                                             (\"amazon_reviews_us_Video_Games_v1_00.tsv.gz\"), inferSchema=True, sep='\\t')"
   ]
  },
  {
   "cell_type": "code",
   "execution_count": 12,
   "metadata": {},
   "outputs": [
    {
     "name": "stdout",
     "output_type": "stream",
     "text": [
      "There are 1785997 rows in the video game dataframe\n"
     ]
    }
   ],
   "source": [
    "print(f'There are {df.count()} rows in the video game dataframe')"
   ]
  },
  {
   "cell_type": "code",
   "execution_count": 13,
   "metadata": {},
   "outputs": [
    {
     "name": "stdout",
     "output_type": "stream",
     "text": [
      "root\n",
      " |-- marketplace: string (nullable = true)\n",
      " |-- customer_id: integer (nullable = true)\n",
      " |-- review_id: string (nullable = true)\n",
      " |-- product_id: string (nullable = true)\n",
      " |-- product_parent: integer (nullable = true)\n",
      " |-- product_title: string (nullable = true)\n",
      " |-- product_category: string (nullable = true)\n",
      " |-- star_rating: integer (nullable = true)\n",
      " |-- helpful_votes: integer (nullable = true)\n",
      " |-- total_votes: integer (nullable = true)\n",
      " |-- vine: string (nullable = true)\n",
      " |-- verified_purchase: string (nullable = true)\n",
      " |-- review_headline: string (nullable = true)\n",
      " |-- review_body: string (nullable = true)\n",
      " |-- review_date: timestamp (nullable = true)\n",
      "\n"
     ]
    }
   ],
   "source": [
    "df.printSchema()"
   ]
  },
  {
   "cell_type": "code",
   "execution_count": 14,
   "metadata": {},
   "outputs": [],
   "source": [
    "#create column in correct date format\n",
    "df = df.withColumn(\"date\", to_date(df['review_date']))"
   ]
  },
  {
   "cell_type": "code",
   "execution_count": 15,
   "metadata": {},
   "outputs": [
    {
     "name": "stdout",
     "output_type": "stream",
     "text": [
      "root\n",
      " |-- marketplace: string (nullable = true)\n",
      " |-- customer_id: integer (nullable = true)\n",
      " |-- review_id: string (nullable = true)\n",
      " |-- product_id: string (nullable = true)\n",
      " |-- product_parent: integer (nullable = true)\n",
      " |-- product_title: string (nullable = true)\n",
      " |-- product_category: string (nullable = true)\n",
      " |-- star_rating: integer (nullable = true)\n",
      " |-- helpful_votes: integer (nullable = true)\n",
      " |-- total_votes: integer (nullable = true)\n",
      " |-- vine: string (nullable = true)\n",
      " |-- verified_purchase: string (nullable = true)\n",
      " |-- review_headline: string (nullable = true)\n",
      " |-- review_body: string (nullable = true)\n",
      " |-- review_date: timestamp (nullable = true)\n",
      " |-- date: date (nullable = true)\n",
      "\n"
     ]
    }
   ],
   "source": [
    "df.printSchema()"
   ]
  },
  {
   "cell_type": "code",
   "execution_count": 16,
   "metadata": {},
   "outputs": [
    {
     "name": "stdout",
     "output_type": "stream",
     "text": [
      "+--------------+-----------+----------+--------------+----------+\n",
      "|     review_id|customer_id|product_id|product_parent|      date|\n",
      "+--------------+-----------+----------+--------------+----------+\n",
      "| RTIS3L2M1F5SM|   12039526|B001CXYMFS|     737716809|2015-08-31|\n",
      "| R1ZV7R40OLHKD|    9636577|B00M920ND6|     569686175|2015-08-31|\n",
      "|R3BH071QLH8QMC|    2331478|B0029CSOD2|      98937668|2015-08-31|\n",
      "|R127K9NTSXA2YH|   52495923|B00GOOSV98|      23143350|2015-08-31|\n",
      "|R32ZWUXDJPW27Q|   14533949|B00Y074JOM|     821342511|2015-08-31|\n",
      "+--------------+-----------+----------+--------------+----------+\n",
      "only showing top 5 rows\n",
      "\n"
     ]
    }
   ],
   "source": [
    "#create reviews df\n",
    "review_df = df.select([\"review_id\", \"customer_id\", \"product_id\", \"product_parent\", \"date\"])\n",
    "review_df.show(5)"
   ]
  },
  {
   "cell_type": "code",
   "execution_count": 17,
   "metadata": {},
   "outputs": [],
   "source": [
    "#create customer df with unique custy id\n",
    "custy_df = df.groupBy('customer_id').count()"
   ]
  },
  {
   "cell_type": "code",
   "execution_count": 18,
   "metadata": {},
   "outputs": [],
   "source": [
    "#rename count col\n",
    "custy_df = custy_df.withColumnRenamed('count','customer_count')"
   ]
  },
  {
   "cell_type": "code",
   "execution_count": 19,
   "metadata": {},
   "outputs": [
    {
     "name": "stdout",
     "output_type": "stream",
     "text": [
      "+-----------+--------------+\n",
      "|customer_id|customer_count|\n",
      "+-----------+--------------+\n",
      "|   48670265|             1|\n",
      "|   49103216|             2|\n",
      "|    1131200|             1|\n",
      "|   43076447|             2|\n",
      "|   46261368|             1|\n",
      "+-----------+--------------+\n",
      "only showing top 5 rows\n",
      "\n"
     ]
    }
   ],
   "source": [
    "custy_df.show(5)"
   ]
  },
  {
   "cell_type": "code",
   "execution_count": 20,
   "metadata": {},
   "outputs": [],
   "source": [
    "#create prod df with unique prod id\n",
    "prod_df = df.select([\"product_id\", \"product_title\"])\n",
    "prod_df = prod_df.dropDuplicates(['product_id'])"
   ]
  },
  {
   "cell_type": "code",
   "execution_count": 21,
   "metadata": {},
   "outputs": [
    {
     "data": {
      "text/plain": [
       "65792"
      ]
     },
     "execution_count": 21,
     "metadata": {},
     "output_type": "execute_result"
    }
   ],
   "source": [
    "prod_df.count()"
   ]
  },
  {
   "cell_type": "code",
   "execution_count": 22,
   "metadata": {},
   "outputs": [
    {
     "name": "stdout",
     "output_type": "stream",
     "text": [
      "+--------------+-----------+-------------+-----------+----+\n",
      "|     review_id|star_rating|helpful_votes|total_votes|vine|\n",
      "+--------------+-----------+-------------+-----------+----+\n",
      "| RTIS3L2M1F5SM|          5|            0|          0|   N|\n",
      "| R1ZV7R40OLHKD|          5|            0|          0|   N|\n",
      "|R3BH071QLH8QMC|          1|            0|          1|   N|\n",
      "|R127K9NTSXA2YH|          3|            0|          0|   N|\n",
      "|R32ZWUXDJPW27Q|          4|            0|          0|   N|\n",
      "+--------------+-----------+-------------+-----------+----+\n",
      "only showing top 5 rows\n",
      "\n"
     ]
    }
   ],
   "source": [
    "#create vine df\n",
    "vine_df = df.select([\"review_id\", \"star_rating\", \"helpful_votes\", \"total_votes\", \"vine\"])\n",
    "vine_df.show(5)"
   ]
  },
  {
   "cell_type": "code",
   "execution_count": 23,
   "metadata": {},
   "outputs": [],
   "source": [
    "# Configure settings for RDS\n",
    "mode = \"append\"\n",
    "jdbc_url=\"jdbc:postgresql://big-data-2.cpclfqan17p9.us-east-1.rds.amazonaws.com:5432/bd-homework\"\n",
    "config = {\"user\":\"postgres\", \n",
    "          \"password\": pword, \n",
    "          \"driver\":\"org.postgresql.Driver\"}"
   ]
  },
  {
   "cell_type": "code",
   "execution_count": 21,
   "metadata": {},
   "outputs": [],
   "source": [
    "#write reviews to RDS\n",
    "review_df.write.jdbc(url=jdbc_url, table='review_id_table', mode=mode, properties=config)"
   ]
  },
  {
   "cell_type": "code",
   "execution_count": null,
   "metadata": {},
   "outputs": [],
   "source": [
    "#write customers\n",
    "custy_df.write.jdbc(url=jdbc_url, table='customers', mode=mode, properties=config)"
   ]
  },
  {
   "cell_type": "code",
   "execution_count": 39,
   "metadata": {},
   "outputs": [],
   "source": [
    "#write products\n",
    "prod_df.write.jdbc(url=jdbc_url, table='products', mode=mode, properties=config)"
   ]
  },
  {
   "cell_type": "code",
   "execution_count": 40,
   "metadata": {},
   "outputs": [],
   "source": [
    "#write vine\n",
    "vine_df.write.jdbc(url=jdbc_url, table='vine_table', mode=mode, properties=config)"
   ]
  },
  {
   "cell_type": "code",
   "execution_count": 41,
   "metadata": {},
   "outputs": [
    {
     "name": "stdout",
     "output_type": "stream",
     "text": [
      "+-----------+----------+--------+------------------+\n",
      "|star_rating|star_count|star_pct|sum(helpful_votes)|\n",
      "+-----------+----------+--------+------------------+\n",
      "|          1|        60|    0.01|               103|\n",
      "|          3|       718|    0.17|              1419|\n",
      "|          5|      1607|    0.37|              4245|\n",
      "|          4|      1712|     0.4|              3862|\n",
      "|          2|       194|    0.05|               448|\n",
      "+-----------+----------+--------+------------------+\n",
      "\n"
     ]
    }
   ],
   "source": [
    "df = vine_df.filter(vine_df[\"vine\"] == \"Y\").groupBy('star_rating').count()\n",
    "df = df.withColumnRenamed('count','star_count')\n",
    "total = df.groupBy().sum('star_count').collect()[0][0]\n",
    "df = df.withColumn('star_pct',round(df['star_count']/total,2))\n",
    "df_help = vine_df.filter(vine_df[\"vine\"] == \"Y\").groupBy('star_rating').sum('helpful_votes')\n",
    "df = df.join(df_help,['star_rating'])\n",
    "df.show()\n"
   ]
  },
  {
   "cell_type": "code",
   "execution_count": 39,
   "metadata": {},
   "outputs": [],
   "source": [
    "df = df.withColumn('helpful_avg',round(df['sum(helpful_votes)']/df['star_count'],2))\n"
   ]
  },
  {
   "cell_type": "code",
   "execution_count": 48,
   "metadata": {},
   "outputs": [
    {
     "name": "stdout",
     "output_type": "stream",
     "text": [
      "+-----------+----------------+\n",
      "|star_rating|rvws_no_helpfuls|\n",
      "+-----------+----------------+\n",
      "|          1|              23|\n",
      "|          3|             389|\n",
      "|          5|             827|\n",
      "|          4|             980|\n",
      "|          2|              95|\n",
      "+-----------+----------------+\n",
      "\n"
     ]
    }
   ],
   "source": [
    "no_help_df = vine_df.filter(vine_df[\"vine\"]==\"Y\").filter(vine_df['helpful_votes']==0).groupBy('star_rating').count()\n",
    "no_help_df = no_help_df.withColumnRenamed('count', 'rvws_no_helpfuls')\n",
    "no_help_df.show()\n"
   ]
  },
  {
   "cell_type": "code",
   "execution_count": 50,
   "metadata": {},
   "outputs": [
    {
     "name": "stdout",
     "output_type": "stream",
     "text": [
      "+-----------+----------+--------+------------------+----------------+-----------+\n",
      "|star_rating|star_count|star_pct|sum(helpful_votes)|rvws_no_helpfuls|helpful_avg|\n",
      "+-----------+----------+--------+------------------+----------------+-----------+\n",
      "|          1|        60|    0.01|               103|              23|     1.7167|\n",
      "|          3|       718|    0.17|              1419|             389|     1.9763|\n",
      "|          5|      1607|    0.37|              4245|             827|     2.6416|\n",
      "|          4|      1712|     0.4|              3862|             980|     2.2558|\n",
      "|          2|       194|    0.05|               448|              95|     2.3093|\n",
      "+-----------+----------+--------+------------------+----------------+-----------+\n",
      "\n"
     ]
    }
   ],
   "source": [
    "df = df.withColumn('helpful_avg',round(df['sum(helpful_votes)']/df['star_count'],4))\n",
    "df.show()"
   ]
  },
  {
   "cell_type": "code",
   "execution_count": 51,
   "metadata": {},
   "outputs": [
    {
     "name": "stdout",
     "output_type": "stream",
     "text": [
      "+-----------+----------+--------+------------------+----------------+-----------+-------------------+\n",
      "|star_rating|star_count|star_pct|sum(helpful_votes)|rvws_no_helpfuls|helpful_avg|        pct_no_help|\n",
      "+-----------+----------+--------+------------------+----------------+-----------+-------------------+\n",
      "|          1|        60|    0.01|               103|              23|     1.7167|0.38333333333333336|\n",
      "|          3|       718|    0.17|              1419|             389|     1.9763|  0.541782729805014|\n",
      "|          5|      1607|    0.37|              4245|             827|     2.6416| 0.5146235220908525|\n",
      "|          4|      1712|     0.4|              3862|             980|     2.2558|  0.572429906542056|\n",
      "|          2|       194|    0.05|               448|              95|     2.3093| 0.4896907216494845|\n",
      "+-----------+----------+--------+------------------+----------------+-----------+-------------------+\n",
      "\n"
     ]
    }
   ],
   "source": [
    " df = df.withColumn('pct_no_help',df['rvws_no_helpfuls']/df['star_count'])\n",
    "df.show()"
   ]
  },
  {
   "cell_type": "code",
   "execution_count": 54,
   "metadata": {},
   "outputs": [
    {
     "name": "stdout",
     "output_type": "stream",
     "text": [
      "+-----------+----------+--------+------------------+----------------+-----------+-------------------+\n",
      "|star_rating|star_count|star_pct|sum(helpful_votes)|rvws_no_helpfuls|helpful_avg|        pct_no_help|\n",
      "+-----------+----------+--------+------------------+----------------+-----------+-------------------+\n",
      "|          1|        60|    0.01|               103|              23|     1.7167|0.38333333333333336|\n",
      "|          2|       194|    0.05|               448|              95|     2.3093| 0.4896907216494845|\n",
      "|          3|       718|    0.17|              1419|             389|     1.9763|  0.541782729805014|\n",
      "|          4|      1712|     0.4|              3862|             980|     2.2558|  0.572429906542056|\n",
      "|          5|      1607|    0.37|              4245|             827|     2.6416| 0.5146235220908525|\n",
      "+-----------+----------+--------+------------------+----------------+-----------+-------------------+\n",
      "\n"
     ]
    }
   ],
   "source": [
    "df = df.orderBy(df['star_rating'].asc())\n",
    "df.show()"
   ]
  },
  {
   "cell_type": "code",
   "execution_count": 52,
   "metadata": {},
   "outputs": [],
   "source": [
    "#create function to run analysis on reviews in (\"Y\") and out of (\"N\") vine program \n",
    "def vine_program(yes_no):\n",
    "    df = vine_df.filter(vine_df[\"vine\"] == yes_no).groupBy('star_rating').count()\n",
    "    #rename count col\n",
    "    df = df.withColumnRenamed('count','star_count')\n",
    "    #count vine reviews\n",
    "    total = df.groupBy().sum('star_count').collect()[0][0]\n",
    "    print(f'There are {total} reviews with vine marker {yes_no}')\n",
    "    #create percent of total column\n",
    "    df = df.withColumn('star_pct',round(df['star_count']/total,4))\n",
    "    #get total number of helpful votes by star rating\n",
    "    df_help = vine_df.filter(vine_df[\"vine\"] == yes_no).groupBy('star_rating').sum('helpful_votes')\n",
    "    #join helpful votes to vine ratings\n",
    "    df = df.join(df_help,['star_rating'])\n",
    "    #create column which averages # of helpful votes by star\n",
    "    df = df.withColumn('helpful_avg',round(df['sum(helpful_votes)']/df['star_count'],4))\n",
    "    #count reviews by star that have no helpful votes\n",
    "    no_help_df = vine_df.filter(vine_df[\"vine\"]==yes_no).filter(vine_df['helpful_votes']==0).groupBy('star_rating').count()\n",
    "    #rename count column\n",
    "    no_help_df = no_help_df.withColumnRenamed('count', 'rvws_no_helpfuls')\n",
    "    #join no_help df to df\n",
    "    df = df.join(no_help_df,['star_rating'])\n",
    "    #calcualte pct of reviews with no helpful votes\n",
    "    df = df.withColumn('pct_no_help',round(df['rvws_no_helpfuls']/df['star_count'],4))\n",
    "    df = df.orderBy(df['star_rating'].asc())\n",
    "    return df.show()\n",
    "    \n",
    "    "
   ]
  },
  {
   "cell_type": "code",
   "execution_count": 53,
   "metadata": {},
   "outputs": [
    {
     "name": "stdout",
     "output_type": "stream",
     "text": [
      "There are 4291 reviews with vine marker Y\n",
      "+-----------+----------+--------+------------------+-----------+----------------+-----------+\n",
      "|star_rating|star_count|star_pct|sum(helpful_votes)|helpful_avg|rvws_no_helpfuls|pct_no_help|\n",
      "+-----------+----------+--------+------------------+-----------+----------------+-----------+\n",
      "|          1|        60|   0.014|               103|     1.7167|              23|     0.3833|\n",
      "|          3|       718|  0.1673|              1419|     1.9763|             389|     0.5418|\n",
      "|          5|      1607|  0.3745|              4245|     2.6416|             827|     0.5146|\n",
      "|          4|      1712|   0.399|              3862|     2.2558|             980|     0.5724|\n",
      "|          2|       194|  0.0452|               448|     2.3093|              95|     0.4897|\n",
      "+-----------+----------+--------+------------------+-----------+----------------+-----------+\n",
      "\n"
     ]
    }
   ],
   "source": [
    "vine_program(\"Y\")"
   ]
  },
  {
   "cell_type": "code",
   "execution_count": 30,
   "metadata": {},
   "outputs": [],
   "source": [
    "#vine review system analysis, first select all reviews in vine program, gropp by star rating \n",
    "vine_yes_df = vine_df.filter(df[\"vine\"] == \"Y\").groupBy('star_rating').count()"
   ]
  },
  {
   "cell_type": "code",
   "execution_count": 41,
   "metadata": {},
   "outputs": [],
   "source": [
    "vine_no_df = vine_df.filter(df[\"vine\"] == \"N\").groupBy('star_rating').count()"
   ]
  },
  {
   "cell_type": "code",
   "execution_count": 31,
   "metadata": {},
   "outputs": [
    {
     "name": "stdout",
     "output_type": "stream",
     "text": [
      "+-----------+----------+\n",
      "|star_rating|star_count|\n",
      "+-----------+----------+\n",
      "|          1|        60|\n",
      "|          3|       718|\n",
      "|          5|      1607|\n",
      "|          4|      1712|\n",
      "|          2|       194|\n",
      "+-----------+----------+\n",
      "\n"
     ]
    }
   ],
   "source": [
    "#rename count col for vine_yes\n",
    "vine_yes_df = vine_yes_df.withColumnRenamed('count','star_count')\n",
    "#count number of vine reviews\n",
    "vine_yes_df.show()"
   ]
  },
  {
   "cell_type": "code",
   "execution_count": 44,
   "metadata": {},
   "outputs": [
    {
     "data": {
      "text/plain": [
       "4291"
      ]
     },
     "execution_count": 44,
     "metadata": {},
     "output_type": "execute_result"
    }
   ],
   "source": [
    "#count total vine reviews\n",
    "total_yes = vine_yes_df.groupBy().sum('star_count').collect()[0][0]\n",
    "total_yes"
   ]
  },
  {
   "cell_type": "code",
   "execution_count": 46,
   "metadata": {},
   "outputs": [
    {
     "name": "stdout",
     "output_type": "stream",
     "text": [
      "+-----------+----------+--------------------+\n",
      "|star_rating|star_count|                 pct|\n",
      "+-----------+----------+--------------------+\n",
      "|          1|        60|0.013982754602656723|\n",
      "|          3|       718| 0.16732696341179212|\n",
      "|          5|      1607|  0.3745047774411559|\n",
      "|          4|      1712| 0.39897459799580515|\n",
      "|          2|       194| 0.04521090654859007|\n",
      "+-----------+----------+--------------------+\n",
      "\n"
     ]
    }
   ],
   "source": [
    "#create percent of total column\n",
    "vine_yes_df = vine_yes_df.withColumn('pct',vine_yes_df['star_count']/total_yes)\n",
    "vine_yes_df.show()"
   ]
  },
  {
   "cell_type": "code",
   "execution_count": 42,
   "metadata": {},
   "outputs": [
    {
     "name": "stdout",
     "output_type": "stream",
     "text": [
      "+-----------+----------+\n",
      "|star_rating|star_count|\n",
      "+-----------+----------+\n",
      "|          1|    192106|\n",
      "|          3|    153146|\n",
      "|          5|   1025317|\n",
      "|          4|    316534|\n",
      "|          2|     94603|\n",
      "+-----------+----------+\n",
      "\n"
     ]
    }
   ],
   "source": [
    "#rename count col for vine_no\n",
    "vine_no_df = vine_no_df.withColumnRenamed('count','star_count')\n",
    "#count number of vine reviews\n",
    "vine_no_df.show()"
   ]
  },
  {
   "cell_type": "code",
   "execution_count": 43,
   "metadata": {},
   "outputs": [
    {
     "data": {
      "text/plain": [
       "1781706"
      ]
     },
     "execution_count": 43,
     "metadata": {},
     "output_type": "execute_result"
    }
   ],
   "source": [
    "#count total vine no reviews\n",
    "total_vine_no = vine_no_df.groupBy().sum('star_count').collect()[0][0]\n",
    "total_vine_no"
   ]
  },
  {
   "cell_type": "code",
   "execution_count": 47,
   "metadata": {},
   "outputs": [
    {
     "name": "stdout",
     "output_type": "stream",
     "text": [
      "+-----------+----------+--------------------+\n",
      "|star_rating|star_count|                 pct|\n",
      "+-----------+----------+--------------------+\n",
      "|          1|    192106| 0.10782138018281355|\n",
      "|          3|    153146| 0.08595469735186388|\n",
      "|          5|   1025317|  0.5754692412777417|\n",
      "|          4|    316534| 0.17765781784424592|\n",
      "|          2|     94603|0.053096863343334987|\n",
      "+-----------+----------+--------------------+\n",
      "\n"
     ]
    }
   ],
   "source": [
    "#create percent of total column\n",
    "vine_no_df = vine_no_df.withColumn('pct',round(vine_no_df['star_count']/total_vine_no))\n",
    "vine_no_df.show()"
   ]
  },
  {
   "cell_type": "code",
   "execution_count": 42,
   "metadata": {},
   "outputs": [
    {
     "ename": "SyntaxError",
     "evalue": "unexpected character after line continuation character (<ipython-input-42-8ca99a4fbeb0>, line 2)",
     "output_type": "error",
     "traceback": [
      "\u001b[1;36m  File \u001b[1;32m\"<ipython-input-42-8ca99a4fbeb0>\"\u001b[1;36m, line \u001b[1;32m2\u001b[0m\n\u001b[1;33m    no_votes_df = vine_df.filter(df[\"vine\"]==\"Y\").filter(vine_df['helpful_votes']==0).select(['star_rating']) \\\u001b[0m\n\u001b[1;37m                                                                                                                ^\u001b[0m\n\u001b[1;31mSyntaxError\u001b[0m\u001b[1;31m:\u001b[0m unexpected character after line continuation character\n"
     ]
    }
   ],
   "source": [
    "#filter by vine ratings that have no helpful votes and count\n",
    "no_votes_df = vine_df.filter(df[\"vine\"]==\"Y\").filter(vine_df['helpful_votes']==0).select(['star_rating']) \\ \n",
    ".groupBy('star_rating').count()\n",
    "no_votes_df.show()"
   ]
  },
  {
   "cell_type": "code",
   "execution_count": 73,
   "metadata": {},
   "outputs": [
    {
     "name": "stdout",
     "output_type": "stream",
     "text": [
      "+-----------+-------------+\n",
      "|star_rating|no_help_count|\n",
      "+-----------+-------------+\n",
      "|          1|           23|\n",
      "|          3|          389|\n",
      "|          5|          827|\n",
      "|          4|          980|\n",
      "|          2|           95|\n",
      "+-----------+-------------+\n",
      "\n"
     ]
    }
   ],
   "source": [
    "#rename count col\n",
    "no_votes_df =  no_votes_df.withColumnRenamed('count','no_help_count')\n",
    "#create df which groups and counts by star rating\n",
    "no_votes_df.show()"
   ]
  },
  {
   "cell_type": "code",
   "execution_count": 74,
   "metadata": {},
   "outputs": [],
   "source": [
    "#join the two count df's \n",
    "join_df = vine_yes_df.join(no_votes_df, vine_yes_df.star_rating == no_votes_df.star_rating)"
   ]
  },
  {
   "cell_type": "code",
   "execution_count": 75,
   "metadata": {},
   "outputs": [
    {
     "name": "stdout",
     "output_type": "stream",
     "text": [
      "+-----------+----------+-----------+-------------+\n",
      "|star_rating|star_count|star_rating|no_help_count|\n",
      "+-----------+----------+-----------+-------------+\n",
      "|          1|        60|          1|           23|\n",
      "|          3|       718|          3|          389|\n",
      "|          5|      1607|          5|          827|\n",
      "|          4|      1712|          4|          980|\n",
      "|          2|       194|          2|           95|\n",
      "+-----------+----------+-----------+-------------+\n",
      "\n"
     ]
    }
   ],
   "source": [
    "#rename count col\n",
    "join_df.show()"
   ]
  },
  {
   "cell_type": "code",
   "execution_count": 76,
   "metadata": {},
   "outputs": [
    {
     "name": "stdout",
     "output_type": "stream",
     "text": [
      "+-----------+----------+-----------+-------------+-------------------+\n",
      "|star_rating|star_count|star_rating|no_help_count|        pct_no_help|\n",
      "+-----------+----------+-----------+-------------+-------------------+\n",
      "|          1|        60|          1|           23|0.38333333333333336|\n",
      "|          3|       718|          3|          389|  0.541782729805014|\n",
      "|          5|      1607|          5|          827| 0.5146235220908525|\n",
      "|          4|      1712|          4|          980|  0.572429906542056|\n",
      "|          2|       194|          2|           95| 0.4896907216494845|\n",
      "+-----------+----------+-----------+-------------+-------------------+\n",
      "\n"
     ]
    }
   ],
   "source": [
    "#create new column which calculates percentage of reviews with no helpful votes\n",
    "join_df.withColumn('pct_no_help',join_df['no_help_count']/join_df['star_count']).show()"
   ]
  },
  {
   "cell_type": "code",
   "execution_count": null,
   "metadata": {},
   "outputs": [],
   "source": []
  }
 ],
 "metadata": {
  "kernelspec": {
   "display_name": "Python 3",
   "language": "python",
   "name": "python3"
  },
  "language_info": {
   "codemirror_mode": {
    "name": "ipython",
    "version": 3
   },
   "file_extension": ".py",
   "mimetype": "text/x-python",
   "name": "python",
   "nbconvert_exporter": "python",
   "pygments_lexer": "ipython3",
   "version": "3.7.6"
  }
 },
 "nbformat": 4,
 "nbformat_minor": 4
}
